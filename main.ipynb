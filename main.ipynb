{
 "cells": [
  {
   "attachments": {},
   "cell_type": "markdown",
   "metadata": {},
   "source": [
    "# Manipulação EDA da base de dados Titanic"
   ]
  },
  {
   "attachments": {},
   "cell_type": "markdown",
   "metadata": {},
   "source": [
    "## Importando pacotes e bibliotecas"
   ]
  },
  {
   "cell_type": "code",
   "execution_count": 1,
   "metadata": {},
   "outputs": [],
   "source": [
    "from matplotlib import pyplot as plt\n",
    "import seaborn as sas\n",
    "import pandas as pd\n",
    "import numpy as np\n",
    "#---\n",
    "from utils.tratar_dados import *\n",
    "from utils.funcoes_graficas import *"
   ]
  },
  {
   "attachments": {},
   "cell_type": "markdown",
   "metadata": {},
   "source": [
    "## Importando base de dados"
   ]
  },
  {
   "attachments": {},
   "cell_type": "markdown",
   "metadata": {},
   "source": [
    "### Importando de um .csv"
   ]
  },
  {
   "cell_type": "code",
   "execution_count": 2,
   "metadata": {},
   "outputs": [
    {
     "name": "stdout",
     "output_type": "stream",
     "text": [
      "Read from .pkl file format\n"
     ]
    }
   ],
   "source": [
    "file_name = \"titanic\"\n",
    "titanic_dataframe = read_data(file_name)"
   ]
  },
  {
   "attachments": {},
   "cell_type": "markdown",
   "metadata": {},
   "source": [
    "### Importando de um .pkl"
   ]
  },
  {
   "cell_type": "code",
   "execution_count": 3,
   "metadata": {},
   "outputs": [
    {
     "name": "stdout",
     "output_type": "stream",
     "text": [
      "Read from .pkl file format\n"
     ]
    }
   ],
   "source": [
    "file_name = \"titanic\"\n",
    "titanic_dataframe = read_data(file_name)"
   ]
  },
  {
   "attachments": {},
   "cell_type": "markdown",
   "metadata": {},
   "source": [
    "## Tratamento dos dados"
   ]
  },
  {
   "attachments": {},
   "cell_type": "markdown",
   "metadata": {},
   "source": [
    "### Passando os títulos para minúsculo"
   ]
  },
  {
   "cell_type": "code",
   "execution_count": 4,
   "metadata": {},
   "outputs": [],
   "source": [
    "titulos = titanic_dataframe.columns\n",
    "titulos = fix_header_to_standarts(titulos)\n",
    "titanic_dataframe.columns = titulos"
   ]
  },
  {
   "attachments": {},
   "cell_type": "markdown",
   "metadata": {},
   "source": [
    "### Remoção de espaços"
   ]
  },
  {
   "cell_type": "code",
   "execution_count": 5,
   "metadata": {},
   "outputs": [],
   "source": [
    "# Nao foi necessario"
   ]
  },
  {
   "attachments": {},
   "cell_type": "markdown",
   "metadata": {},
   "source": [
    "### Remoção de caracteres proibidos"
   ]
  },
  {
   "cell_type": "code",
   "execution_count": 6,
   "metadata": {},
   "outputs": [],
   "source": [
    "# Nao foi necessario"
   ]
  },
  {
   "attachments": {},
   "cell_type": "markdown",
   "metadata": {},
   "source": [
    "### Normalização dos dados"
   ]
  },
  {
   "cell_type": "code",
   "execution_count": 7,
   "metadata": {},
   "outputs": [
    {
     "name": "stdout",
     "output_type": "stream",
     "text": [
      "<class 'pandas.core.frame.DataFrame'>\n",
      "RangeIndex: 418 entries, 0 to 417\n",
      "Data columns (total 12 columns):\n",
      " #   Column       Non-Null Count  Dtype  \n",
      "---  ------       --------------  -----  \n",
      " 0   passengerid  418 non-null    int64  \n",
      " 1   survived     418 non-null    int64  \n",
      " 2   pclass       418 non-null    int64  \n",
      " 3   name         418 non-null    object \n",
      " 4   sex          418 non-null    object \n",
      " 5   age          332 non-null    float64\n",
      " 6   sibsp        418 non-null    int64  \n",
      " 7   parch        418 non-null    int64  \n",
      " 8   ticket       418 non-null    object \n",
      " 9   fare         417 non-null    float64\n",
      " 10  cabin        91 non-null     object \n",
      " 11  embarked     418 non-null    object \n",
      "dtypes: float64(2), int64(5), object(5)\n",
      "memory usage: 39.3+ KB\n"
     ]
    }
   ],
   "source": [
    "titanic_dataframe.info()"
   ]
  },
  {
   "cell_type": "code",
   "execution_count": 8,
   "metadata": {},
   "outputs": [
    {
     "data": {
      "text/html": [
       "<div>\n",
       "<style scoped>\n",
       "    .dataframe tbody tr th:only-of-type {\n",
       "        vertical-align: middle;\n",
       "    }\n",
       "\n",
       "    .dataframe tbody tr th {\n",
       "        vertical-align: top;\n",
       "    }\n",
       "\n",
       "    .dataframe thead th {\n",
       "        text-align: right;\n",
       "    }\n",
       "</style>\n",
       "<table border=\"1\" class=\"dataframe\">\n",
       "  <thead>\n",
       "    <tr style=\"text-align: right;\">\n",
       "      <th></th>\n",
       "      <th>passengerid</th>\n",
       "      <th>survived</th>\n",
       "      <th>pclass</th>\n",
       "      <th>name</th>\n",
       "      <th>sex</th>\n",
       "      <th>age</th>\n",
       "      <th>sibsp</th>\n",
       "      <th>parch</th>\n",
       "      <th>ticket</th>\n",
       "      <th>fare</th>\n",
       "      <th>cabin</th>\n",
       "      <th>embarked</th>\n",
       "    </tr>\n",
       "  </thead>\n",
       "  <tbody>\n",
       "    <tr>\n",
       "      <th>343</th>\n",
       "      <td>1235</td>\n",
       "      <td>1</td>\n",
       "      <td>1</td>\n",
       "      <td>Cardeza, Mrs. James Warburton Martinez (Charlo...</td>\n",
       "      <td>female</td>\n",
       "      <td>58.00</td>\n",
       "      <td>0</td>\n",
       "      <td>1</td>\n",
       "      <td>PC 17755</td>\n",
       "      <td>512.3292</td>\n",
       "      <td>B51 B53 B55</td>\n",
       "      <td>C</td>\n",
       "    </tr>\n",
       "    <tr>\n",
       "      <th>354</th>\n",
       "      <td>1246</td>\n",
       "      <td>1</td>\n",
       "      <td>3</td>\n",
       "      <td>Dean, Miss. Elizabeth Gladys Millvina\"\"</td>\n",
       "      <td>female</td>\n",
       "      <td>0.17</td>\n",
       "      <td>1</td>\n",
       "      <td>2</td>\n",
       "      <td>C.A. 2315</td>\n",
       "      <td>20.5750</td>\n",
       "      <td>NaN</td>\n",
       "      <td>S</td>\n",
       "    </tr>\n",
       "    <tr>\n",
       "      <th>259</th>\n",
       "      <td>1151</td>\n",
       "      <td>0</td>\n",
       "      <td>3</td>\n",
       "      <td>Midtsjo, Mr. Karl Albert</td>\n",
       "      <td>male</td>\n",
       "      <td>21.00</td>\n",
       "      <td>0</td>\n",
       "      <td>0</td>\n",
       "      <td>345501</td>\n",
       "      <td>7.7750</td>\n",
       "      <td>NaN</td>\n",
       "      <td>S</td>\n",
       "    </tr>\n",
       "    <tr>\n",
       "      <th>123</th>\n",
       "      <td>1015</td>\n",
       "      <td>0</td>\n",
       "      <td>3</td>\n",
       "      <td>Carver, Mr. Alfred John</td>\n",
       "      <td>male</td>\n",
       "      <td>28.00</td>\n",
       "      <td>0</td>\n",
       "      <td>0</td>\n",
       "      <td>392095</td>\n",
       "      <td>7.2500</td>\n",
       "      <td>NaN</td>\n",
       "      <td>S</td>\n",
       "    </tr>\n",
       "    <tr>\n",
       "      <th>32</th>\n",
       "      <td>924</td>\n",
       "      <td>1</td>\n",
       "      <td>3</td>\n",
       "      <td>Dean, Mrs. Bertram (Eva Georgetta Light)</td>\n",
       "      <td>female</td>\n",
       "      <td>33.00</td>\n",
       "      <td>1</td>\n",
       "      <td>2</td>\n",
       "      <td>C.A. 2315</td>\n",
       "      <td>20.5750</td>\n",
       "      <td>NaN</td>\n",
       "      <td>S</td>\n",
       "    </tr>\n",
       "    <tr>\n",
       "      <th>286</th>\n",
       "      <td>1178</td>\n",
       "      <td>0</td>\n",
       "      <td>3</td>\n",
       "      <td>Franklin, Mr. Charles (Charles Fardon)</td>\n",
       "      <td>male</td>\n",
       "      <td>NaN</td>\n",
       "      <td>0</td>\n",
       "      <td>0</td>\n",
       "      <td>SOTON/O.Q. 3101314</td>\n",
       "      <td>7.2500</td>\n",
       "      <td>NaN</td>\n",
       "      <td>S</td>\n",
       "    </tr>\n",
       "    <tr>\n",
       "      <th>76</th>\n",
       "      <td>968</td>\n",
       "      <td>0</td>\n",
       "      <td>3</td>\n",
       "      <td>Miles, Mr. Frank</td>\n",
       "      <td>male</td>\n",
       "      <td>NaN</td>\n",
       "      <td>0</td>\n",
       "      <td>0</td>\n",
       "      <td>359306</td>\n",
       "      <td>8.0500</td>\n",
       "      <td>NaN</td>\n",
       "      <td>S</td>\n",
       "    </tr>\n",
       "    <tr>\n",
       "      <th>346</th>\n",
       "      <td>1238</td>\n",
       "      <td>0</td>\n",
       "      <td>2</td>\n",
       "      <td>Botsford, Mr. William Hull</td>\n",
       "      <td>male</td>\n",
       "      <td>26.00</td>\n",
       "      <td>0</td>\n",
       "      <td>0</td>\n",
       "      <td>237670</td>\n",
       "      <td>13.0000</td>\n",
       "      <td>NaN</td>\n",
       "      <td>S</td>\n",
       "    </tr>\n",
       "    <tr>\n",
       "      <th>350</th>\n",
       "      <td>1242</td>\n",
       "      <td>1</td>\n",
       "      <td>1</td>\n",
       "      <td>Greenfield, Mrs. Leo David (Blanche Strouse)</td>\n",
       "      <td>female</td>\n",
       "      <td>45.00</td>\n",
       "      <td>0</td>\n",
       "      <td>1</td>\n",
       "      <td>PC 17759</td>\n",
       "      <td>63.3583</td>\n",
       "      <td>D10 D12</td>\n",
       "      <td>C</td>\n",
       "    </tr>\n",
       "    <tr>\n",
       "      <th>31</th>\n",
       "      <td>923</td>\n",
       "      <td>0</td>\n",
       "      <td>2</td>\n",
       "      <td>Jefferys, Mr. Clifford Thomas</td>\n",
       "      <td>male</td>\n",
       "      <td>24.00</td>\n",
       "      <td>2</td>\n",
       "      <td>0</td>\n",
       "      <td>C.A. 31029</td>\n",
       "      <td>31.5000</td>\n",
       "      <td>NaN</td>\n",
       "      <td>S</td>\n",
       "    </tr>\n",
       "  </tbody>\n",
       "</table>\n",
       "</div>"
      ],
      "text/plain": [
       "     passengerid  survived  pclass  \\\n",
       "343         1235         1       1   \n",
       "354         1246         1       3   \n",
       "259         1151         0       3   \n",
       "123         1015         0       3   \n",
       "32           924         1       3   \n",
       "286         1178         0       3   \n",
       "76           968         0       3   \n",
       "346         1238         0       2   \n",
       "350         1242         1       1   \n",
       "31           923         0       2   \n",
       "\n",
       "                                                  name     sex    age  sibsp  \\\n",
       "343  Cardeza, Mrs. James Warburton Martinez (Charlo...  female  58.00      0   \n",
       "354            Dean, Miss. Elizabeth Gladys Millvina\"\"  female   0.17      1   \n",
       "259                           Midtsjo, Mr. Karl Albert    male  21.00      0   \n",
       "123                            Carver, Mr. Alfred John    male  28.00      0   \n",
       "32            Dean, Mrs. Bertram (Eva Georgetta Light)  female  33.00      1   \n",
       "286             Franklin, Mr. Charles (Charles Fardon)    male    NaN      0   \n",
       "76                                    Miles, Mr. Frank    male    NaN      0   \n",
       "346                         Botsford, Mr. William Hull    male  26.00      0   \n",
       "350       Greenfield, Mrs. Leo David (Blanche Strouse)  female  45.00      0   \n",
       "31                       Jefferys, Mr. Clifford Thomas    male  24.00      2   \n",
       "\n",
       "     parch              ticket      fare        cabin embarked  \n",
       "343      1            PC 17755  512.3292  B51 B53 B55        C  \n",
       "354      2           C.A. 2315   20.5750          NaN        S  \n",
       "259      0              345501    7.7750          NaN        S  \n",
       "123      0              392095    7.2500          NaN        S  \n",
       "32       2           C.A. 2315   20.5750          NaN        S  \n",
       "286      0  SOTON/O.Q. 3101314    7.2500          NaN        S  \n",
       "76       0              359306    8.0500          NaN        S  \n",
       "346      0              237670   13.0000          NaN        S  \n",
       "350      1            PC 17759   63.3583      D10 D12        C  \n",
       "31       0          C.A. 31029   31.5000          NaN        S  "
      ]
     },
     "execution_count": 8,
     "metadata": {},
     "output_type": "execute_result"
    }
   ],
   "source": [
    "titanic_dataframe.sample(10)"
   ]
  },
  {
   "attachments": {},
   "cell_type": "markdown",
   "metadata": {},
   "source": [
    "#### Tratamento de NaNs"
   ]
  },
  {
   "attachments": {},
   "cell_type": "markdown",
   "metadata": {},
   "source": [
    "##### Coluna \"cabin\""
   ]
  },
  {
   "cell_type": "code",
   "execution_count": 9,
   "metadata": {},
   "outputs": [
    {
     "data": {
      "text/html": [
       "<div>\n",
       "<style scoped>\n",
       "    .dataframe tbody tr th:only-of-type {\n",
       "        vertical-align: middle;\n",
       "    }\n",
       "\n",
       "    .dataframe tbody tr th {\n",
       "        vertical-align: top;\n",
       "    }\n",
       "\n",
       "    .dataframe thead th {\n",
       "        text-align: right;\n",
       "    }\n",
       "</style>\n",
       "<table border=\"1\" class=\"dataframe\">\n",
       "  <thead>\n",
       "    <tr style=\"text-align: right;\">\n",
       "      <th></th>\n",
       "      <th>passengerid</th>\n",
       "      <th>survived</th>\n",
       "      <th>pclass</th>\n",
       "      <th>name</th>\n",
       "      <th>sex</th>\n",
       "      <th>age</th>\n",
       "      <th>sibsp</th>\n",
       "      <th>parch</th>\n",
       "      <th>ticket</th>\n",
       "      <th>fare</th>\n",
       "      <th>cabin</th>\n",
       "      <th>embarked</th>\n",
       "    </tr>\n",
       "  </thead>\n",
       "  <tbody>\n",
       "    <tr>\n",
       "      <th>163</th>\n",
       "      <td>1055</td>\n",
       "      <td>0</td>\n",
       "      <td>3</td>\n",
       "      <td>Pearce, Mr. Ernest</td>\n",
       "      <td>male</td>\n",
       "      <td>NaN</td>\n",
       "      <td>0</td>\n",
       "      <td>0</td>\n",
       "      <td>343271</td>\n",
       "      <td>7.0000</td>\n",
       "      <td>Unknown</td>\n",
       "      <td>S</td>\n",
       "    </tr>\n",
       "    <tr>\n",
       "      <th>208</th>\n",
       "      <td>1100</td>\n",
       "      <td>1</td>\n",
       "      <td>1</td>\n",
       "      <td>Rosenbaum, Miss. Edith Louise</td>\n",
       "      <td>female</td>\n",
       "      <td>33.0</td>\n",
       "      <td>0</td>\n",
       "      <td>0</td>\n",
       "      <td>PC 17613</td>\n",
       "      <td>27.7208</td>\n",
       "      <td>A11</td>\n",
       "      <td>C</td>\n",
       "    </tr>\n",
       "    <tr>\n",
       "      <th>216</th>\n",
       "      <td>1108</td>\n",
       "      <td>1</td>\n",
       "      <td>3</td>\n",
       "      <td>Mahon, Miss. Bridget Delia</td>\n",
       "      <td>female</td>\n",
       "      <td>NaN</td>\n",
       "      <td>0</td>\n",
       "      <td>0</td>\n",
       "      <td>330924</td>\n",
       "      <td>7.8792</td>\n",
       "      <td>Unknown</td>\n",
       "      <td>Q</td>\n",
       "    </tr>\n",
       "    <tr>\n",
       "      <th>4</th>\n",
       "      <td>896</td>\n",
       "      <td>1</td>\n",
       "      <td>3</td>\n",
       "      <td>Hirvonen, Mrs. Alexander (Helga E Lindqvist)</td>\n",
       "      <td>female</td>\n",
       "      <td>22.0</td>\n",
       "      <td>1</td>\n",
       "      <td>1</td>\n",
       "      <td>3101298</td>\n",
       "      <td>12.2875</td>\n",
       "      <td>Unknown</td>\n",
       "      <td>S</td>\n",
       "    </tr>\n",
       "    <tr>\n",
       "      <th>319</th>\n",
       "      <td>1211</td>\n",
       "      <td>0</td>\n",
       "      <td>2</td>\n",
       "      <td>Jefferys, Mr. Ernest Wilfred</td>\n",
       "      <td>male</td>\n",
       "      <td>22.0</td>\n",
       "      <td>2</td>\n",
       "      <td>0</td>\n",
       "      <td>C.A. 31029</td>\n",
       "      <td>31.5000</td>\n",
       "      <td>Unknown</td>\n",
       "      <td>S</td>\n",
       "    </tr>\n",
       "  </tbody>\n",
       "</table>\n",
       "</div>"
      ],
      "text/plain": [
       "     passengerid  survived  pclass  \\\n",
       "163         1055         0       3   \n",
       "208         1100         1       1   \n",
       "216         1108         1       3   \n",
       "4            896         1       3   \n",
       "319         1211         0       2   \n",
       "\n",
       "                                             name     sex   age  sibsp  parch  \\\n",
       "163                            Pearce, Mr. Ernest    male   NaN      0      0   \n",
       "208                 Rosenbaum, Miss. Edith Louise  female  33.0      0      0   \n",
       "216                    Mahon, Miss. Bridget Delia  female   NaN      0      0   \n",
       "4    Hirvonen, Mrs. Alexander (Helga E Lindqvist)  female  22.0      1      1   \n",
       "319                  Jefferys, Mr. Ernest Wilfred    male  22.0      2      0   \n",
       "\n",
       "         ticket     fare    cabin embarked  \n",
       "163      343271   7.0000  Unknown        S  \n",
       "208    PC 17613  27.7208      A11        C  \n",
       "216      330924   7.8792  Unknown        Q  \n",
       "4       3101298  12.2875  Unknown        S  \n",
       "319  C.A. 31029  31.5000  Unknown        S  "
      ]
     },
     "execution_count": 9,
     "metadata": {},
     "output_type": "execute_result"
    }
   ],
   "source": [
    "coluna_cabine = \"cabin\"\n",
    "for coluna in titanic_dataframe.columns:\n",
    "    if coluna_cabine == coluna:\n",
    "        titanic_dataframe[f\"{coluna}\"] = titanic_dataframe[f\"{coluna}\"].fillna(\"Unknown\")\n",
    "\n",
    "\n",
    "titanic_dataframe.sample(5)"
   ]
  },
  {
   "attachments": {},
   "cell_type": "markdown",
   "metadata": {},
   "source": [
    "##### Coluna \"age\""
   ]
  },
  {
   "cell_type": "code",
   "execution_count": 10,
   "metadata": {},
   "outputs": [
    {
     "data": {
      "text/html": [
       "<div>\n",
       "<style scoped>\n",
       "    .dataframe tbody tr th:only-of-type {\n",
       "        vertical-align: middle;\n",
       "    }\n",
       "\n",
       "    .dataframe tbody tr th {\n",
       "        vertical-align: top;\n",
       "    }\n",
       "\n",
       "    .dataframe thead th {\n",
       "        text-align: right;\n",
       "    }\n",
       "</style>\n",
       "<table border=\"1\" class=\"dataframe\">\n",
       "  <thead>\n",
       "    <tr style=\"text-align: right;\">\n",
       "      <th></th>\n",
       "      <th>passengerid</th>\n",
       "      <th>survived</th>\n",
       "      <th>pclass</th>\n",
       "      <th>name</th>\n",
       "      <th>sex</th>\n",
       "      <th>age</th>\n",
       "      <th>sibsp</th>\n",
       "      <th>parch</th>\n",
       "      <th>ticket</th>\n",
       "      <th>fare</th>\n",
       "      <th>cabin</th>\n",
       "      <th>embarked</th>\n",
       "    </tr>\n",
       "  </thead>\n",
       "  <tbody>\n",
       "    <tr>\n",
       "      <th>245</th>\n",
       "      <td>1137</td>\n",
       "      <td>0</td>\n",
       "      <td>1</td>\n",
       "      <td>Kenyon, Mr. Frederick R</td>\n",
       "      <td>male</td>\n",
       "      <td>41.0</td>\n",
       "      <td>1</td>\n",
       "      <td>0</td>\n",
       "      <td>17464</td>\n",
       "      <td>51.8625</td>\n",
       "      <td>D21</td>\n",
       "      <td>S</td>\n",
       "    </tr>\n",
       "    <tr>\n",
       "      <th>365</th>\n",
       "      <td>1257</td>\n",
       "      <td>1</td>\n",
       "      <td>3</td>\n",
       "      <td>Sage, Mrs. John (Annie Bullen)</td>\n",
       "      <td>female</td>\n",
       "      <td>30.0</td>\n",
       "      <td>1</td>\n",
       "      <td>9</td>\n",
       "      <td>CA. 2343</td>\n",
       "      <td>69.5500</td>\n",
       "      <td>Unknown</td>\n",
       "      <td>S</td>\n",
       "    </tr>\n",
       "    <tr>\n",
       "      <th>248</th>\n",
       "      <td>1140</td>\n",
       "      <td>1</td>\n",
       "      <td>2</td>\n",
       "      <td>Hold, Mrs. Stephen (Annie Margaret Hill)</td>\n",
       "      <td>female</td>\n",
       "      <td>29.0</td>\n",
       "      <td>1</td>\n",
       "      <td>0</td>\n",
       "      <td>26707</td>\n",
       "      <td>26.0000</td>\n",
       "      <td>Unknown</td>\n",
       "      <td>S</td>\n",
       "    </tr>\n",
       "    <tr>\n",
       "      <th>98</th>\n",
       "      <td>990</td>\n",
       "      <td>1</td>\n",
       "      <td>3</td>\n",
       "      <td>Braf, Miss. Elin Ester Maria</td>\n",
       "      <td>female</td>\n",
       "      <td>20.0</td>\n",
       "      <td>0</td>\n",
       "      <td>0</td>\n",
       "      <td>347471</td>\n",
       "      <td>7.8542</td>\n",
       "      <td>Unknown</td>\n",
       "      <td>S</td>\n",
       "    </tr>\n",
       "    <tr>\n",
       "      <th>25</th>\n",
       "      <td>917</td>\n",
       "      <td>0</td>\n",
       "      <td>3</td>\n",
       "      <td>Robins, Mr. Alexander A</td>\n",
       "      <td>male</td>\n",
       "      <td>50.0</td>\n",
       "      <td>1</td>\n",
       "      <td>0</td>\n",
       "      <td>A/5. 3337</td>\n",
       "      <td>14.5000</td>\n",
       "      <td>Unknown</td>\n",
       "      <td>S</td>\n",
       "    </tr>\n",
       "  </tbody>\n",
       "</table>\n",
       "</div>"
      ],
      "text/plain": [
       "     passengerid  survived  pclass                                      name  \\\n",
       "245         1137         0       1                   Kenyon, Mr. Frederick R   \n",
       "365         1257         1       3            Sage, Mrs. John (Annie Bullen)   \n",
       "248         1140         1       2  Hold, Mrs. Stephen (Annie Margaret Hill)   \n",
       "98           990         1       3              Braf, Miss. Elin Ester Maria   \n",
       "25           917         0       3                   Robins, Mr. Alexander A   \n",
       "\n",
       "        sex   age  sibsp  parch     ticket     fare    cabin embarked  \n",
       "245    male  41.0      1      0      17464  51.8625      D21        S  \n",
       "365  female  30.0      1      9   CA. 2343  69.5500  Unknown        S  \n",
       "248  female  29.0      1      0      26707  26.0000  Unknown        S  \n",
       "98   female  20.0      0      0     347471   7.8542  Unknown        S  \n",
       "25     male  50.0      1      0  A/5. 3337  14.5000  Unknown        S  "
      ]
     },
     "execution_count": 10,
     "metadata": {},
     "output_type": "execute_result"
    }
   ],
   "source": [
    "coluna_cabine = \"age\"\n",
    "media = int(round(titanic_dataframe.age.mean(), 0))\n",
    "\n",
    "for coluna in titanic_dataframe.columns:\n",
    "    if coluna_cabine == coluna:\n",
    "        titanic_dataframe[f\"{coluna}\"] = titanic_dataframe[f\"{coluna}\"].fillna(media)\n",
    "\n",
    "\n",
    "titanic_dataframe.sample(5)"
   ]
  },
  {
   "attachments": {},
   "cell_type": "markdown",
   "metadata": {},
   "source": [
    "##### Coluna \"embarked\""
   ]
  },
  {
   "cell_type": "code",
   "execution_count": 11,
   "metadata": {},
   "outputs": [
    {
     "data": {
      "text/plain": [
       "array(['Q', 'S', 'C'], dtype=object)"
      ]
     },
     "execution_count": 11,
     "metadata": {},
     "output_type": "execute_result"
    }
   ],
   "source": [
    "titanic_dataframe.embarked.unique()"
   ]
  },
  {
   "cell_type": "code",
   "execution_count": 12,
   "metadata": {},
   "outputs": [],
   "source": [
    "# NAO EXECUTE ESSA CELUNA MAIS DE UMA UNICA VEZ\n",
    "titanic_dataframe.embarked = titanic_dataframe.embarked.map({\n",
    "    \"C\": 0,\n",
    "    \"Q\": 1,\n",
    "    \"S\": 2\n",
    "    }\n",
    ")"
   ]
  },
  {
   "cell_type": "code",
   "execution_count": 13,
   "metadata": {},
   "outputs": [
    {
     "data": {
      "text/html": [
       "<div>\n",
       "<style scoped>\n",
       "    .dataframe tbody tr th:only-of-type {\n",
       "        vertical-align: middle;\n",
       "    }\n",
       "\n",
       "    .dataframe tbody tr th {\n",
       "        vertical-align: top;\n",
       "    }\n",
       "\n",
       "    .dataframe thead th {\n",
       "        text-align: right;\n",
       "    }\n",
       "</style>\n",
       "<table border=\"1\" class=\"dataframe\">\n",
       "  <thead>\n",
       "    <tr style=\"text-align: right;\">\n",
       "      <th></th>\n",
       "      <th>passengerid</th>\n",
       "      <th>survived</th>\n",
       "      <th>pclass</th>\n",
       "      <th>name</th>\n",
       "      <th>sex</th>\n",
       "      <th>age</th>\n",
       "      <th>sibsp</th>\n",
       "      <th>parch</th>\n",
       "      <th>ticket</th>\n",
       "      <th>fare</th>\n",
       "      <th>cabin</th>\n",
       "      <th>embarked</th>\n",
       "    </tr>\n",
       "  </thead>\n",
       "  <tbody>\n",
       "    <tr>\n",
       "      <th>299</th>\n",
       "      <td>1191</td>\n",
       "      <td>0</td>\n",
       "      <td>3</td>\n",
       "      <td>Johansson, Mr. Nils</td>\n",
       "      <td>male</td>\n",
       "      <td>29.0</td>\n",
       "      <td>0</td>\n",
       "      <td>0</td>\n",
       "      <td>347467</td>\n",
       "      <td>7.8542</td>\n",
       "      <td>Unknown</td>\n",
       "      <td>2</td>\n",
       "    </tr>\n",
       "    <tr>\n",
       "      <th>131</th>\n",
       "      <td>1023</td>\n",
       "      <td>0</td>\n",
       "      <td>1</td>\n",
       "      <td>Gracie, Col. Archibald IV</td>\n",
       "      <td>male</td>\n",
       "      <td>53.0</td>\n",
       "      <td>0</td>\n",
       "      <td>0</td>\n",
       "      <td>113780</td>\n",
       "      <td>28.5000</td>\n",
       "      <td>C51</td>\n",
       "      <td>0</td>\n",
       "    </tr>\n",
       "    <tr>\n",
       "      <th>332</th>\n",
       "      <td>1224</td>\n",
       "      <td>0</td>\n",
       "      <td>3</td>\n",
       "      <td>Thomas, Mr. Tannous</td>\n",
       "      <td>male</td>\n",
       "      <td>30.0</td>\n",
       "      <td>0</td>\n",
       "      <td>0</td>\n",
       "      <td>2684</td>\n",
       "      <td>7.2250</td>\n",
       "      <td>Unknown</td>\n",
       "      <td>0</td>\n",
       "    </tr>\n",
       "    <tr>\n",
       "      <th>249</th>\n",
       "      <td>1141</td>\n",
       "      <td>1</td>\n",
       "      <td>3</td>\n",
       "      <td>Khalil, Mrs. Betros (Zahie Maria\" Elias)\"</td>\n",
       "      <td>female</td>\n",
       "      <td>30.0</td>\n",
       "      <td>1</td>\n",
       "      <td>0</td>\n",
       "      <td>2660</td>\n",
       "      <td>14.4542</td>\n",
       "      <td>Unknown</td>\n",
       "      <td>0</td>\n",
       "    </tr>\n",
       "    <tr>\n",
       "      <th>315</th>\n",
       "      <td>1207</td>\n",
       "      <td>1</td>\n",
       "      <td>3</td>\n",
       "      <td>Hagardon, Miss. Kate</td>\n",
       "      <td>female</td>\n",
       "      <td>17.0</td>\n",
       "      <td>0</td>\n",
       "      <td>0</td>\n",
       "      <td>AQ/3. 30631</td>\n",
       "      <td>7.7333</td>\n",
       "      <td>Unknown</td>\n",
       "      <td>1</td>\n",
       "    </tr>\n",
       "  </tbody>\n",
       "</table>\n",
       "</div>"
      ],
      "text/plain": [
       "     passengerid  survived  pclass                                       name  \\\n",
       "299         1191         0       3                        Johansson, Mr. Nils   \n",
       "131         1023         0       1                  Gracie, Col. Archibald IV   \n",
       "332         1224         0       3                        Thomas, Mr. Tannous   \n",
       "249         1141         1       3  Khalil, Mrs. Betros (Zahie Maria\" Elias)\"   \n",
       "315         1207         1       3                       Hagardon, Miss. Kate   \n",
       "\n",
       "        sex   age  sibsp  parch       ticket     fare    cabin  embarked  \n",
       "299    male  29.0      0      0       347467   7.8542  Unknown         2  \n",
       "131    male  53.0      0      0       113780  28.5000      C51         0  \n",
       "332    male  30.0      0      0         2684   7.2250  Unknown         0  \n",
       "249  female  30.0      1      0         2660  14.4542  Unknown         0  \n",
       "315  female  17.0      0      0  AQ/3. 30631   7.7333  Unknown         1  "
      ]
     },
     "execution_count": 13,
     "metadata": {},
     "output_type": "execute_result"
    }
   ],
   "source": [
    "titanic_dataframe.sample(5)"
   ]
  },
  {
   "attachments": {},
   "cell_type": "markdown",
   "metadata": {},
   "source": [
    "#### Tratamento de tipos"
   ]
  },
  {
   "cell_type": "code",
   "execution_count": 18,
   "metadata": {},
   "outputs": [
    {
     "name": "stdout",
     "output_type": "stream",
     "text": [
      "O maior id é:\t\t1309\n",
      "A maior tarifa é:\t512.33\n",
      "\n"
     ]
    }
   ],
   "source": [
    "id_max = titanic_dataframe.passengerid.max()\n",
    "fare_max = round(titanic_dataframe.fare.max(), 2)\n",
    "print(f\"O maior id é:\\t\\t{id_max}\\nA maior tarifa é:\\t{fare_max}\\n\")"
   ]
  },
  {
   "cell_type": "code",
   "execution_count": null,
   "metadata": {},
   "outputs": [],
   "source": []
  }
 ],
 "metadata": {
  "kernelspec": {
   "display_name": ".treino-venv",
   "language": "python",
   "name": "python3"
  },
  "language_info": {
   "codemirror_mode": {
    "name": "ipython",
    "version": 3
   },
   "file_extension": ".py",
   "mimetype": "text/x-python",
   "name": "python",
   "nbconvert_exporter": "python",
   "pygments_lexer": "ipython3",
   "version": "3.10.6"
  },
  "orig_nbformat": 4,
  "vscode": {
   "interpreter": {
    "hash": "580f5b92bbce66c2a06dc5d69bee1cc8174ea19a0aa65f2149bab7579fae1b4a"
   }
  }
 },
 "nbformat": 4,
 "nbformat_minor": 2
}
