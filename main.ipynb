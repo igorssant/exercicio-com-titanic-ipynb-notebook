{
 "cells": [
  {
   "attachments": {},
   "cell_type": "markdown",
   "metadata": {},
   "source": [
    "# Manipulação EDA da base de dados Titanic"
   ]
  },
  {
   "attachments": {},
   "cell_type": "markdown",
   "metadata": {},
   "source": [
    "## Importando pacotes e bibliotecas"
   ]
  },
  {
   "cell_type": "code",
   "execution_count": null,
   "metadata": {},
   "outputs": [],
   "source": [
    "from matplotlib import pyplot as plt\n",
    "import seaborn as sas\n",
    "import pandas as pd\n",
    "import numpy as np\n",
    "#---\n",
    "from utils.tratar_dados import *\n",
    "from utils.funcoes_graficas import *"
   ]
  },
  {
   "attachments": {},
   "cell_type": "markdown",
   "metadata": {},
   "source": [
    "## Importando base de dados"
   ]
  },
  {
   "attachments": {},
   "cell_type": "markdown",
   "metadata": {},
   "source": [
    "### Importando de um .csv"
   ]
  },
  {
   "cell_type": "code",
   "execution_count": null,
   "metadata": {},
   "outputs": [],
   "source": [
    "file_name = \"titanic\"\n",
    "titanic_dataframe = read_data(file_name)"
   ]
  },
  {
   "attachments": {},
   "cell_type": "markdown",
   "metadata": {},
   "source": [
    "### Importando de um .pkl"
   ]
  },
  {
   "cell_type": "code",
   "execution_count": null,
   "metadata": {},
   "outputs": [],
   "source": [
    "file_name = \"titanic\"\n",
    "titanic_dataframe = read_data(file_name)"
   ]
  },
  {
   "attachments": {},
   "cell_type": "markdown",
   "metadata": {},
   "source": [
    "## Tratamento dos dados"
   ]
  },
  {
   "attachments": {},
   "cell_type": "markdown",
   "metadata": {},
   "source": [
    "### Passando os títulos para minúsculo"
   ]
  },
  {
   "cell_type": "code",
   "execution_count": null,
   "metadata": {},
   "outputs": [],
   "source": [
    "titulos = titanic_dataframe.columns\n",
    "titulos = fix_header_to_standarts(titulos)\n",
    "titanic_dataframe.columns = titulos"
   ]
  },
  {
   "attachments": {},
   "cell_type": "markdown",
   "metadata": {},
   "source": [
    "### Remoção de espaços"
   ]
  },
  {
   "cell_type": "code",
   "execution_count": null,
   "metadata": {},
   "outputs": [],
   "source": [
    "# Nao foi necessario"
   ]
  },
  {
   "attachments": {},
   "cell_type": "markdown",
   "metadata": {},
   "source": [
    "### Remoção de caracteres proibidos"
   ]
  },
  {
   "cell_type": "code",
   "execution_count": null,
   "metadata": {},
   "outputs": [],
   "source": [
    "# Nao foi necessario"
   ]
  },
  {
   "attachments": {},
   "cell_type": "markdown",
   "metadata": {},
   "source": [
    "### Normalização dos dados"
   ]
  },
  {
   "cell_type": "code",
   "execution_count": null,
   "metadata": {},
   "outputs": [],
   "source": [
    "titanic_dataframe.info()"
   ]
  },
  {
   "cell_type": "code",
   "execution_count": null,
   "metadata": {},
   "outputs": [],
   "source": [
    "titanic_dataframe.sample(10)"
   ]
  },
  {
   "attachments": {},
   "cell_type": "markdown",
   "metadata": {},
   "source": [
    "#### Tratamento de NaNs"
   ]
  },
  {
   "attachments": {},
   "cell_type": "markdown",
   "metadata": {},
   "source": [
    "##### Coluna \"cabin\""
   ]
  },
  {
   "cell_type": "code",
   "execution_count": null,
   "metadata": {},
   "outputs": [],
   "source": [
    "coluna_cabine = \"cabin\"\n",
    "for coluna in titanic_dataframe.columns:\n",
    "    if coluna_cabine == coluna:\n",
    "        titanic_dataframe[f\"{coluna}\"] = titanic_dataframe[f\"{coluna}\"].fillna(\"unknown\")\n",
    "\n",
    "\n",
    "titanic_dataframe.sample(5)"
   ]
  },
  {
   "cell_type": "code",
   "execution_count": null,
   "metadata": {},
   "outputs": [],
   "source": [
    "titanic_dataframe.cabin = fix_header_to_standarts(titanic_dataframe.cabin.values)"
   ]
  },
  {
   "attachments": {},
   "cell_type": "markdown",
   "metadata": {},
   "source": [
    "##### Coluna \"age\""
   ]
  },
  {
   "cell_type": "code",
   "execution_count": null,
   "metadata": {},
   "outputs": [],
   "source": [
    "coluna_cabine = \"age\"\n",
    "media = int(round(titanic_dataframe.age.mean(), 0))\n",
    "\n",
    "for coluna in titanic_dataframe.columns:\n",
    "    if coluna_cabine == coluna:\n",
    "        titanic_dataframe[f\"{coluna}\"] = titanic_dataframe[f\"{coluna}\"].fillna(media)\n",
    "\n",
    "\n",
    "titanic_dataframe.sample(5)"
   ]
  },
  {
   "attachments": {},
   "cell_type": "markdown",
   "metadata": {},
   "source": [
    "##### Coluna \"embarked\""
   ]
  },
  {
   "cell_type": "code",
   "execution_count": null,
   "metadata": {},
   "outputs": [],
   "source": [
    "titanic_dataframe.embarked.unique()"
   ]
  },
  {
   "cell_type": "code",
   "execution_count": null,
   "metadata": {},
   "outputs": [],
   "source": [
    "# NAO EXECUTE ESSA CELUNA MAIS DE UMA UNICA VEZ\n",
    "titanic_dataframe.embarked = titanic_dataframe.embarked.map({\n",
    "    \"C\": 0,\n",
    "    \"Q\": 1,\n",
    "    \"S\": 2\n",
    "    }\n",
    ")"
   ]
  },
  {
   "cell_type": "code",
   "execution_count": null,
   "metadata": {},
   "outputs": [],
   "source": [
    "titanic_dataframe.sample(5)"
   ]
  },
  {
   "attachments": {},
   "cell_type": "markdown",
   "metadata": {},
   "source": [
    "##### Coluna \"sex\""
   ]
  },
  {
   "cell_type": "code",
   "execution_count": null,
   "metadata": {},
   "outputs": [],
   "source": [
    "titanic_dataframe.sex.unique()"
   ]
  },
  {
   "cell_type": "code",
   "execution_count": null,
   "metadata": {},
   "outputs": [],
   "source": [
    "# NAO EXECUTE ESSA CELUNA MAIS DE UMA UNICA VEZ\n",
    "titanic_dataframe.sex = titanic_dataframe.sex.map({\n",
    "    \"male\": 0,\n",
    "    \"female\": 1\n",
    "    }\n",
    ")"
   ]
  },
  {
   "cell_type": "code",
   "execution_count": null,
   "metadata": {},
   "outputs": [],
   "source": [
    "titanic_dataframe.sample(5)"
   ]
  },
  {
   "attachments": {},
   "cell_type": "markdown",
   "metadata": {},
   "source": [
    "#### Tratamento de tipos"
   ]
  },
  {
   "cell_type": "code",
   "execution_count": null,
   "metadata": {},
   "outputs": [],
   "source": [
    "id_max = titanic_dataframe.passengerid.max()\n",
    "fare_max = round(titanic_dataframe.fare.max(), 2)\n",
    "print(f\"O maior id é:\\t\\t{id_max}\\nA maior tarifa é:\\t{fare_max}\\n\")"
   ]
  },
  {
   "cell_type": "code",
   "execution_count": null,
   "metadata": {},
   "outputs": [],
   "source": [
    "### coluna passengerid\n",
    "titanic_dataframe.passengerid = titanic_dataframe.passengerid.astype(\"uint16\")\n",
    "\n",
    "### coluna survided\n",
    "titanic_dataframe.survived = titanic_dataframe.survived.astype(\"uint8\")\n",
    "\n",
    "### coluna pclass\n",
    "titanic_dataframe.pclass = titanic_dataframe.pclass.astype(\"uint8\")\n",
    "\n",
    "### coluna name\n",
    "titanic_dataframe.name = titanic_dataframe.name.astype(\"category\")\n",
    "\n",
    "### coluna sex\n",
    "titanic_dataframe.sex = titanic_dataframe.sex.astype(\"uint8\")\n",
    "\n",
    "### coluna age\n",
    "titanic_dataframe.age = titanic_dataframe.age.astype(\"uint8\")\n",
    "\n",
    "### coluna sibsp\n",
    "titanic_dataframe.sibsp = titanic_dataframe.sibsp.astype(\"uint8\")\n",
    "\n",
    "### coluna parch\n",
    "titanic_dataframe.parch = titanic_dataframe.parch.astype(\"uint8\")\n",
    "\n",
    "### coluna ticket\n",
    "titanic_dataframe.ticket = titanic_dataframe.ticket.astype(\"category\")\n",
    "\n",
    "### coluna fare\n",
    "titanic_dataframe.fare = titanic_dataframe.fare.astype(\"float16\")\n",
    "# titanic_dataframe.fare = titanic_dataframe[\"fare\"].apply(np.floor)\n",
    "\n",
    "### coluna cabin\n",
    "titanic_dataframe.cabin = titanic_dataframe.cabin.astype(\"category\")\n",
    "\n",
    "### coluna embarked\n",
    "titanic_dataframe.embarked = titanic_dataframe.embarked.astype(\"uint8\")"
   ]
  },
  {
   "cell_type": "code",
   "execution_count": null,
   "metadata": {},
   "outputs": [],
   "source": [
    "titanic_dataframe.info()"
   ]
  },
  {
   "attachments": {},
   "cell_type": "markdown",
   "metadata": {},
   "source": [
    "#### Exclusão de colunas inconclusívas"
   ]
  },
  {
   "attachments": {},
   "cell_type": "markdown",
   "metadata": {},
   "source": [
    "##### Coluna \"name\""
   ]
  },
  {
   "cell_type": "code",
   "execution_count": null,
   "metadata": {},
   "outputs": [],
   "source": [
    "titanic_dataframe = titanic_dataframe.drop([\"name\"], axis=1)\n",
    "titanic_dataframe.sample(5)"
   ]
  },
  {
   "attachments": {},
   "cell_type": "markdown",
   "metadata": {},
   "source": [
    "##### Coluna \"ticket\""
   ]
  },
  {
   "cell_type": "code",
   "execution_count": null,
   "metadata": {},
   "outputs": [],
   "source": [
    "titanic_dataframe = titanic_dataframe.drop([\"ticket\"], axis=1)\n",
    "titanic_dataframe.sample(5)"
   ]
  },
  {
   "attachments": {},
   "cell_type": "markdown",
   "metadata": {},
   "source": [
    "##### Coluna \"cabin\""
   ]
  },
  {
   "cell_type": "code",
   "execution_count": null,
   "metadata": {},
   "outputs": [],
   "source": [
    "titanic_dataframe = titanic_dataframe.drop([\"cabin\"], axis=1)\n",
    "titanic_dataframe.sample(5)"
   ]
  },
  {
   "attachments": {},
   "cell_type": "markdown",
   "metadata": {},
   "source": [
    "#### Resultado final"
   ]
  },
  {
   "cell_type": "code",
   "execution_count": null,
   "metadata": {},
   "outputs": [],
   "source": [
    "titanic_dataframe.info()\n",
    "\n",
    "# Se quiser salvar descomentar bloco a seguir\n",
    "#\n",
    "#\n",
    "# file_name = \"titanic\"\n",
    "# save_pkl_file(titanic_dataframe, file_name)\n",
    "#\n",
    "#"
   ]
  },
  {
   "attachments": {},
   "cell_type": "markdown",
   "metadata": {},
   "source": [
    "## Extração dos dados"
   ]
  },
  {
   "attachments": {},
   "cell_type": "markdown",
   "metadata": {},
   "source": [
    "### Média"
   ]
  },
  {
   "attachments": {},
   "cell_type": "markdown",
   "metadata": {},
   "source": [
    "#### Coluna \"age\""
   ]
  },
  {
   "cell_type": "code",
   "execution_count": null,
   "metadata": {},
   "outputs": [],
   "source": [
    "media_idade = round(titanic_dataframe.age.mean(), ndigits=1)\n",
    "print(f\"A média de idade é: {media_idade}\\n\")"
   ]
  },
  {
   "attachments": {},
   "cell_type": "markdown",
   "metadata": {},
   "source": [
    "#### Coluna \"fare\""
   ]
  },
  {
   "cell_type": "code",
   "execution_count": null,
   "metadata": {},
   "outputs": [],
   "source": [
    "media_taxa = round(titanic_dataframe.fare.mean(), ndigits=2)\n",
    "print(f\"A média de taxa é: {media_taxa}\\n\")"
   ]
  },
  {
   "attachments": {},
   "cell_type": "markdown",
   "metadata": {},
   "source": [
    "### Mediana"
   ]
  },
  {
   "attachments": {},
   "cell_type": "markdown",
   "metadata": {},
   "source": [
    "#### Coluna \"age\""
   ]
  },
  {
   "cell_type": "code",
   "execution_count": null,
   "metadata": {},
   "outputs": [],
   "source": [
    "mediana_idade = titanic_dataframe.age.median()\n",
    "print(f\"A mediana de idade é: {mediana_idade}\\n\")"
   ]
  },
  {
   "attachments": {},
   "cell_type": "markdown",
   "metadata": {},
   "source": [
    "#### Coluna \"fare\""
   ]
  },
  {
   "cell_type": "code",
   "execution_count": null,
   "metadata": {},
   "outputs": [],
   "source": [
    "mediana_taxa = titanic_dataframe.fare.median()\n",
    "print(f\"A mediana de taxa é: {round(mediana_taxa, 0)}\\n\")"
   ]
  },
  {
   "attachments": {},
   "cell_type": "markdown",
   "metadata": {},
   "source": [
    "### Moda"
   ]
  },
  {
   "attachments": {},
   "cell_type": "markdown",
   "metadata": {},
   "source": [
    "#### Coluna \"age\""
   ]
  },
  {
   "cell_type": "code",
   "execution_count": null,
   "metadata": {},
   "outputs": [],
   "source": [
    "moda_idade = titanic_dataframe.age.mode()\n",
    "print(f\"A moda de idade é: {moda_idade}\\n\")"
   ]
  },
  {
   "attachments": {},
   "cell_type": "markdown",
   "metadata": {},
   "source": [
    "#### Coluna \"fare\""
   ]
  },
  {
   "cell_type": "code",
   "execution_count": null,
   "metadata": {},
   "outputs": [],
   "source": [
    "moda_taxa = titanic_dataframe.fare.mode()\n",
    "print(f\"A moda de taxa é: {moda_taxa}\\n\")"
   ]
  },
  {
   "attachments": {},
   "cell_type": "markdown",
   "metadata": {},
   "source": [
    "### Desvio padrão"
   ]
  },
  {
   "attachments": {},
   "cell_type": "markdown",
   "metadata": {},
   "source": [
    "#### Coluna \"age\""
   ]
  },
  {
   "cell_type": "code",
   "execution_count": null,
   "metadata": {},
   "outputs": [],
   "source": [
    "desvio_padrao_idade = round(titanic_dataframe.age.std(), 2)\n",
    "\n",
    "if desvio_padrao_idade == np.Inf:\n",
    "    print(f\"O desvio padrão da idade é infinito\\n\")\n",
    "else:\n",
    "    print(f\"O desvio padrão da idade é: {desvio_padrao_idade}\\n\")"
   ]
  },
  {
   "attachments": {},
   "cell_type": "markdown",
   "metadata": {},
   "source": [
    "#### Coluna \"fare\""
   ]
  },
  {
   "cell_type": "code",
   "execution_count": null,
   "metadata": {},
   "outputs": [],
   "source": [
    "desvio_padrao_taxa = round(titanic_dataframe.fare.std(), 2)\n",
    "\n",
    "if desvio_padrao_taxa == np.Inf:\n",
    "    print(f\"O desvio padrão da taxa é infinito\\n\")\n",
    "else:    \n",
    "    print(f\"O desvio padrão da taxa é: {desvio_padrao_taxa}\\n\")"
   ]
  },
  {
   "attachments": {},
   "cell_type": "markdown",
   "metadata": {},
   "source": [
    "### Contagem (Count)"
   ]
  },
  {
   "attachments": {},
   "cell_type": "markdown",
   "metadata": {},
   "source": [
    "#### Coluna \"survived\""
   ]
  },
  {
   "cell_type": "code",
   "execution_count": null,
   "metadata": {},
   "outputs": [],
   "source": [
    "titanic_dataframe.survived.unique()"
   ]
  },
  {
   "cell_type": "code",
   "execution_count": null,
   "metadata": {},
   "outputs": [],
   "source": [
    "qtd_mortes = titanic_dataframe.survived.value_counts()[1]\n",
    "qtd_vivos = titanic_dataframe.survived.value_counts()[0]\n",
    "\n",
    "print(f\"O números de sobreviventes é:\\t{qtd_vivos}\\nO número de mortos é:\\t\\t{qtd_mortes}\\n\")"
   ]
  },
  {
   "attachments": {},
   "cell_type": "markdown",
   "metadata": {},
   "source": [
    "#### Coluna \"pclass\""
   ]
  },
  {
   "cell_type": "code",
   "execution_count": null,
   "metadata": {},
   "outputs": [],
   "source": [
    "titanic_dataframe.pclass.unique()"
   ]
  },
  {
   "cell_type": "code",
   "execution_count": null,
   "metadata": {},
   "outputs": [],
   "source": [
    "qtd_classe_1 = titanic_dataframe.pclass.value_counts()[1]\n",
    "qtd_classe_2 = titanic_dataframe.pclass.value_counts()[2]\n",
    "qtd_classe_3 = titanic_dataframe.pclass.value_counts()[3]\n",
    "\n",
    "print(f\"O números de pessoas na classe 1 é: {qtd_classe_1}\\nO números de pessoas na classe 2 é: {qtd_classe_2}\\nO números de pessoas na classe 3 é: {qtd_classe_3}\\n\")"
   ]
  },
  {
   "attachments": {},
   "cell_type": "markdown",
   "metadata": {},
   "source": [
    "#### Coluna \"sex\""
   ]
  },
  {
   "cell_type": "code",
   "execution_count": null,
   "metadata": {},
   "outputs": [],
   "source": [
    "titanic_dataframe.sex.unique()"
   ]
  },
  {
   "cell_type": "code",
   "execution_count": null,
   "metadata": {},
   "outputs": [],
   "source": [
    "qtd_homens = titanic_dataframe.sex.value_counts()[0]\n",
    "qtd_mulheres = titanic_dataframe.sex.value_counts()[1]\n",
    "\n",
    "print(f\"O números de mulheres é:\\t{qtd_mulheres}\\nO número de homens é:\\t\\t{qtd_homens}\\n\")"
   ]
  },
  {
   "attachments": {},
   "cell_type": "markdown",
   "metadata": {},
   "source": [
    "#### Coluna \"sibsp\""
   ]
  },
  {
   "cell_type": "code",
   "execution_count": null,
   "metadata": {},
   "outputs": [],
   "source": [
    "titanic_dataframe.sibsp.unique()"
   ]
  },
  {
   "cell_type": "code",
   "execution_count": null,
   "metadata": {},
   "outputs": [],
   "source": [
    "qtd_solo = titanic_dataframe.sibsp.value_counts()[0]\n",
    "qtd_par = titanic_dataframe.sibsp.value_counts()[1]\n",
    "qtd_trio = titanic_dataframe.sibsp.value_counts()[2]\n",
    "qtd_quatro = titanic_dataframe.sibsp.value_counts()[3]\n",
    "qtd_cinco = titanic_dataframe.sibsp.value_counts()[4]\n",
    "qtd_seis = titanic_dataframe.sibsp.value_counts()[5]\n",
    "qtd_nove = titanic_dataframe.sibsp.value_counts()[8]\n",
    "\n",
    "print(f\"\"\"\n",
    "Pessoas sozinhas:               {qtd_solo}\n",
    "Pessoas com um único familiar:  {qtd_par}\n",
    "Pessoas com dois familiares:     {qtd_trio}\n",
    "Pessoas com três familiares:      {qtd_quatro}\n",
    "Pessoas com quatro familiares:    {qtd_cinco}\n",
    "Pessoas com cinco familiares:     {qtd_seis}\n",
    "Pessoas com oito familiares:      {qtd_nove}\n",
    "      \"\"\")"
   ]
  },
  {
   "attachments": {},
   "cell_type": "markdown",
   "metadata": {},
   "source": [
    "#### \"parch\""
   ]
  },
  {
   "cell_type": "code",
   "execution_count": null,
   "metadata": {},
   "outputs": [],
   "source": [
    "titanic_dataframe.parch.unique()"
   ]
  },
  {
   "cell_type": "code",
   "execution_count": null,
   "metadata": {},
   "outputs": [],
   "source": [
    "parch_zero = titanic_dataframe.parch.value_counts()[0]\n",
    "parch_um = titanic_dataframe.parch.value_counts()[1]\n",
    "parch_dois = titanic_dataframe.parch.value_counts()[2]\n",
    "parch_tres = titanic_dataframe.parch.value_counts()[3]\n",
    "parch_quatro = titanic_dataframe.parch.value_counts()[4]\n",
    "parch_cinco = titanic_dataframe.parch.value_counts()[5]\n",
    "parch_seis = titanic_dataframe.parch.value_counts()[6]\n",
    "parch_nove = titanic_dataframe.parch.value_counts()[9]\n",
    "\n",
    "print(f\"\"\"\n",
    "Pessoas com bilhete 0: {parch_zero}\n",
    "Pessoas com bilhete 1:  {parch_um}\n",
    "Pessoas com bilhete 2:  {parch_dois}\n",
    "Pessoas com bilhete 3:   {parch_tres}\n",
    "Pessoas com bilhete 4:   {parch_quatro}\n",
    "Pessoas com bilhete 5:   {parch_cinco}\n",
    "Pessoas com bilhete 6:   {parch_seis}\n",
    "Pessoas com bilhete 9:   {parch_nove}\n",
    "      \"\"\")"
   ]
  },
  {
   "attachments": {},
   "cell_type": "markdown",
   "metadata": {},
   "source": [
    "#### Coluna \"embarked\""
   ]
  },
  {
   "cell_type": "code",
   "execution_count": null,
   "metadata": {},
   "outputs": [],
   "source": [
    "titanic_dataframe.embarked.unique()"
   ]
  },
  {
   "cell_type": "code",
   "execution_count": null,
   "metadata": {},
   "outputs": [],
   "source": [
    "embarque_c = titanic_dataframe.embarked.value_counts()[0]\n",
    "embarque_q = titanic_dataframe.embarked.value_counts()[1]\n",
    "embarque_s = titanic_dataframe.embarked.value_counts()[2]\n",
    "\n",
    "print(f\"Número de pessoas que embarcaram pelo portão C: {embarque_c}\\nNúmero de pessoas que embarcaram pelo portão Q: {embarque_q}\\nNúmero de pessoas que embarcaram pelo portão S: {embarque_s}\\n\")"
   ]
  }
 ],
 "metadata": {
  "kernelspec": {
   "display_name": ".treino-venv",
   "language": "python",
   "name": "python3"
  },
  "language_info": {
   "codemirror_mode": {
    "name": "ipython",
    "version": 3
   },
   "file_extension": ".py",
   "mimetype": "text/x-python",
   "name": "python",
   "nbconvert_exporter": "python",
   "pygments_lexer": "ipython3",
   "version": "3.10.6"
  },
  "orig_nbformat": 4,
  "vscode": {
   "interpreter": {
    "hash": "580f5b92bbce66c2a06dc5d69bee1cc8174ea19a0aa65f2149bab7579fae1b4a"
   }
  }
 },
 "nbformat": 4,
 "nbformat_minor": 2
}
