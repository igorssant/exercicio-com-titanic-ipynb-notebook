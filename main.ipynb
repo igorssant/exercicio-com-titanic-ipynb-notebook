{
 "cells": [
  {
   "attachments": {},
   "cell_type": "markdown",
   "metadata": {},
   "source": [
    "# Manipulação EDA da base de dados Titanic"
   ]
  },
  {
   "attachments": {},
   "cell_type": "markdown",
   "metadata": {},
   "source": [
    "## Importando pacotes e bibliotecas"
   ]
  },
  {
   "cell_type": "code",
   "execution_count": 2,
   "metadata": {},
   "outputs": [],
   "source": [
    "from matplotlib import pyplot as plt\n",
    "import seaborn as sas\n",
    "import pandas as pd\n",
    "import numpy as np\n",
    "#---\n",
    "from utils.tratar_dados import *\n",
    "from utils.funcoes_graficas import *"
   ]
  },
  {
   "attachments": {},
   "cell_type": "markdown",
   "metadata": {},
   "source": [
    "## Importando base de dados"
   ]
  },
  {
   "attachments": {},
   "cell_type": "markdown",
   "metadata": {},
   "source": [
    "### Importando de um .csv"
   ]
  },
  {
   "cell_type": "code",
   "execution_count": 3,
   "metadata": {},
   "outputs": [
    {
     "name": "stdout",
     "output_type": "stream",
     "text": [
      "Read from .pkl file format\n"
     ]
    }
   ],
   "source": [
    "file_name = \"titanic\"\n",
    "titanic_dataframe = read_data(file_name)"
   ]
  },
  {
   "attachments": {},
   "cell_type": "markdown",
   "metadata": {},
   "source": [
    "### Importando de um .pkl"
   ]
  },
  {
   "cell_type": "code",
   "execution_count": 4,
   "metadata": {},
   "outputs": [
    {
     "name": "stdout",
     "output_type": "stream",
     "text": [
      "Read from .pkl file format\n"
     ]
    }
   ],
   "source": [
    "file_name = \"titanic\"\n",
    "titanic_dataframe = read_data(file_name)"
   ]
  },
  {
   "attachments": {},
   "cell_type": "markdown",
   "metadata": {},
   "source": [
    "## Tratamento dos dados"
   ]
  },
  {
   "attachments": {},
   "cell_type": "markdown",
   "metadata": {},
   "source": [
    "### Passando os títulos para minúsculo"
   ]
  },
  {
   "cell_type": "code",
   "execution_count": 5,
   "metadata": {},
   "outputs": [],
   "source": [
    "titulos = titanic_dataframe.columns\n",
    "titulos = fix_header_to_standarts(titulos)\n",
    "titanic_dataframe.columns = titulos"
   ]
  },
  {
   "attachments": {},
   "cell_type": "markdown",
   "metadata": {},
   "source": [
    "### Remoção de espaços"
   ]
  },
  {
   "cell_type": "code",
   "execution_count": 6,
   "metadata": {},
   "outputs": [],
   "source": [
    "# Nao foi necessario"
   ]
  },
  {
   "attachments": {},
   "cell_type": "markdown",
   "metadata": {},
   "source": [
    "### Remoção de caracteres proibidos"
   ]
  },
  {
   "cell_type": "code",
   "execution_count": 7,
   "metadata": {},
   "outputs": [],
   "source": [
    "# Nao foi necessario"
   ]
  },
  {
   "attachments": {},
   "cell_type": "markdown",
   "metadata": {},
   "source": [
    "### Normalização dos dados"
   ]
  },
  {
   "cell_type": "code",
   "execution_count": 8,
   "metadata": {},
   "outputs": [
    {
     "name": "stdout",
     "output_type": "stream",
     "text": [
      "<class 'pandas.core.frame.DataFrame'>\n",
      "RangeIndex: 418 entries, 0 to 417\n",
      "Data columns (total 12 columns):\n",
      " #   Column       Non-Null Count  Dtype  \n",
      "---  ------       --------------  -----  \n",
      " 0   passengerid  418 non-null    int64  \n",
      " 1   survived     418 non-null    int64  \n",
      " 2   pclass       418 non-null    int64  \n",
      " 3   name         418 non-null    object \n",
      " 4   sex          418 non-null    object \n",
      " 5   age          332 non-null    float64\n",
      " 6   sibsp        418 non-null    int64  \n",
      " 7   parch        418 non-null    int64  \n",
      " 8   ticket       418 non-null    object \n",
      " 9   fare         417 non-null    float64\n",
      " 10  cabin        91 non-null     object \n",
      " 11  embarked     418 non-null    object \n",
      "dtypes: float64(2), int64(5), object(5)\n",
      "memory usage: 39.3+ KB\n"
     ]
    }
   ],
   "source": [
    "titanic_dataframe.info()"
   ]
  },
  {
   "cell_type": "code",
   "execution_count": 9,
   "metadata": {},
   "outputs": [
    {
     "data": {
      "text/html": [
       "<div>\n",
       "<style scoped>\n",
       "    .dataframe tbody tr th:only-of-type {\n",
       "        vertical-align: middle;\n",
       "    }\n",
       "\n",
       "    .dataframe tbody tr th {\n",
       "        vertical-align: top;\n",
       "    }\n",
       "\n",
       "    .dataframe thead th {\n",
       "        text-align: right;\n",
       "    }\n",
       "</style>\n",
       "<table border=\"1\" class=\"dataframe\">\n",
       "  <thead>\n",
       "    <tr style=\"text-align: right;\">\n",
       "      <th></th>\n",
       "      <th>passengerid</th>\n",
       "      <th>survived</th>\n",
       "      <th>pclass</th>\n",
       "      <th>name</th>\n",
       "      <th>sex</th>\n",
       "      <th>age</th>\n",
       "      <th>sibsp</th>\n",
       "      <th>parch</th>\n",
       "      <th>ticket</th>\n",
       "      <th>fare</th>\n",
       "      <th>cabin</th>\n",
       "      <th>embarked</th>\n",
       "    </tr>\n",
       "  </thead>\n",
       "  <tbody>\n",
       "    <tr>\n",
       "      <th>104</th>\n",
       "      <td>996</td>\n",
       "      <td>1</td>\n",
       "      <td>3</td>\n",
       "      <td>Thomas, Mrs. Alexander (Thamine Thelma\")\"</td>\n",
       "      <td>female</td>\n",
       "      <td>16.0</td>\n",
       "      <td>1</td>\n",
       "      <td>1</td>\n",
       "      <td>2625</td>\n",
       "      <td>8.5167</td>\n",
       "      <td>NaN</td>\n",
       "      <td>C</td>\n",
       "    </tr>\n",
       "    <tr>\n",
       "      <th>76</th>\n",
       "      <td>968</td>\n",
       "      <td>0</td>\n",
       "      <td>3</td>\n",
       "      <td>Miles, Mr. Frank</td>\n",
       "      <td>male</td>\n",
       "      <td>NaN</td>\n",
       "      <td>0</td>\n",
       "      <td>0</td>\n",
       "      <td>359306</td>\n",
       "      <td>8.0500</td>\n",
       "      <td>NaN</td>\n",
       "      <td>S</td>\n",
       "    </tr>\n",
       "    <tr>\n",
       "      <th>319</th>\n",
       "      <td>1211</td>\n",
       "      <td>0</td>\n",
       "      <td>2</td>\n",
       "      <td>Jefferys, Mr. Ernest Wilfred</td>\n",
       "      <td>male</td>\n",
       "      <td>22.0</td>\n",
       "      <td>2</td>\n",
       "      <td>0</td>\n",
       "      <td>C.A. 31029</td>\n",
       "      <td>31.5000</td>\n",
       "      <td>NaN</td>\n",
       "      <td>S</td>\n",
       "    </tr>\n",
       "    <tr>\n",
       "      <th>41</th>\n",
       "      <td>933</td>\n",
       "      <td>0</td>\n",
       "      <td>1</td>\n",
       "      <td>Franklin, Mr. Thomas Parham</td>\n",
       "      <td>male</td>\n",
       "      <td>NaN</td>\n",
       "      <td>0</td>\n",
       "      <td>0</td>\n",
       "      <td>113778</td>\n",
       "      <td>26.5500</td>\n",
       "      <td>D34</td>\n",
       "      <td>S</td>\n",
       "    </tr>\n",
       "    <tr>\n",
       "      <th>129</th>\n",
       "      <td>1021</td>\n",
       "      <td>0</td>\n",
       "      <td>3</td>\n",
       "      <td>Petersen, Mr. Marius</td>\n",
       "      <td>male</td>\n",
       "      <td>24.0</td>\n",
       "      <td>0</td>\n",
       "      <td>0</td>\n",
       "      <td>342441</td>\n",
       "      <td>8.0500</td>\n",
       "      <td>NaN</td>\n",
       "      <td>S</td>\n",
       "    </tr>\n",
       "    <tr>\n",
       "      <th>29</th>\n",
       "      <td>921</td>\n",
       "      <td>0</td>\n",
       "      <td>3</td>\n",
       "      <td>Samaan, Mr. Elias</td>\n",
       "      <td>male</td>\n",
       "      <td>NaN</td>\n",
       "      <td>2</td>\n",
       "      <td>0</td>\n",
       "      <td>2662</td>\n",
       "      <td>21.6792</td>\n",
       "      <td>NaN</td>\n",
       "      <td>C</td>\n",
       "    </tr>\n",
       "    <tr>\n",
       "      <th>355</th>\n",
       "      <td>1247</td>\n",
       "      <td>0</td>\n",
       "      <td>1</td>\n",
       "      <td>Julian, Mr. Henry Forbes</td>\n",
       "      <td>male</td>\n",
       "      <td>50.0</td>\n",
       "      <td>0</td>\n",
       "      <td>0</td>\n",
       "      <td>113044</td>\n",
       "      <td>26.0000</td>\n",
       "      <td>E60</td>\n",
       "      <td>S</td>\n",
       "    </tr>\n",
       "    <tr>\n",
       "      <th>206</th>\n",
       "      <td>1098</td>\n",
       "      <td>1</td>\n",
       "      <td>3</td>\n",
       "      <td>McGowan, Miss. Katherine</td>\n",
       "      <td>female</td>\n",
       "      <td>35.0</td>\n",
       "      <td>0</td>\n",
       "      <td>0</td>\n",
       "      <td>9232</td>\n",
       "      <td>7.7500</td>\n",
       "      <td>NaN</td>\n",
       "      <td>Q</td>\n",
       "    </tr>\n",
       "    <tr>\n",
       "      <th>85</th>\n",
       "      <td>977</td>\n",
       "      <td>0</td>\n",
       "      <td>3</td>\n",
       "      <td>Khalil, Mr. Betros</td>\n",
       "      <td>male</td>\n",
       "      <td>NaN</td>\n",
       "      <td>1</td>\n",
       "      <td>0</td>\n",
       "      <td>2660</td>\n",
       "      <td>14.4542</td>\n",
       "      <td>NaN</td>\n",
       "      <td>C</td>\n",
       "    </tr>\n",
       "    <tr>\n",
       "      <th>54</th>\n",
       "      <td>946</td>\n",
       "      <td>0</td>\n",
       "      <td>2</td>\n",
       "      <td>Mangiavacchi, Mr. Serafino Emilio</td>\n",
       "      <td>male</td>\n",
       "      <td>NaN</td>\n",
       "      <td>0</td>\n",
       "      <td>0</td>\n",
       "      <td>SC/A.3 2861</td>\n",
       "      <td>15.5792</td>\n",
       "      <td>NaN</td>\n",
       "      <td>C</td>\n",
       "    </tr>\n",
       "  </tbody>\n",
       "</table>\n",
       "</div>"
      ],
      "text/plain": [
       "     passengerid  survived  pclass                                       name  \\\n",
       "104          996         1       3  Thomas, Mrs. Alexander (Thamine Thelma\")\"   \n",
       "76           968         0       3                           Miles, Mr. Frank   \n",
       "319         1211         0       2               Jefferys, Mr. Ernest Wilfred   \n",
       "41           933         0       1                Franklin, Mr. Thomas Parham   \n",
       "129         1021         0       3                       Petersen, Mr. Marius   \n",
       "29           921         0       3                          Samaan, Mr. Elias   \n",
       "355         1247         0       1                   Julian, Mr. Henry Forbes   \n",
       "206         1098         1       3                   McGowan, Miss. Katherine   \n",
       "85           977         0       3                         Khalil, Mr. Betros   \n",
       "54           946         0       2          Mangiavacchi, Mr. Serafino Emilio   \n",
       "\n",
       "        sex   age  sibsp  parch       ticket     fare cabin embarked  \n",
       "104  female  16.0      1      1         2625   8.5167   NaN        C  \n",
       "76     male   NaN      0      0       359306   8.0500   NaN        S  \n",
       "319    male  22.0      2      0   C.A. 31029  31.5000   NaN        S  \n",
       "41     male   NaN      0      0       113778  26.5500   D34        S  \n",
       "129    male  24.0      0      0       342441   8.0500   NaN        S  \n",
       "29     male   NaN      2      0         2662  21.6792   NaN        C  \n",
       "355    male  50.0      0      0       113044  26.0000   E60        S  \n",
       "206  female  35.0      0      0         9232   7.7500   NaN        Q  \n",
       "85     male   NaN      1      0         2660  14.4542   NaN        C  \n",
       "54     male   NaN      0      0  SC/A.3 2861  15.5792   NaN        C  "
      ]
     },
     "execution_count": 9,
     "metadata": {},
     "output_type": "execute_result"
    }
   ],
   "source": [
    "titanic_dataframe.sample(10)"
   ]
  },
  {
   "attachments": {},
   "cell_type": "markdown",
   "metadata": {},
   "source": [
    "#### Tratamento de NaNs"
   ]
  },
  {
   "attachments": {},
   "cell_type": "markdown",
   "metadata": {},
   "source": [
    "##### Coluna \"cabin\""
   ]
  },
  {
   "cell_type": "code",
   "execution_count": 10,
   "metadata": {},
   "outputs": [
    {
     "data": {
      "text/html": [
       "<div>\n",
       "<style scoped>\n",
       "    .dataframe tbody tr th:only-of-type {\n",
       "        vertical-align: middle;\n",
       "    }\n",
       "\n",
       "    .dataframe tbody tr th {\n",
       "        vertical-align: top;\n",
       "    }\n",
       "\n",
       "    .dataframe thead th {\n",
       "        text-align: right;\n",
       "    }\n",
       "</style>\n",
       "<table border=\"1\" class=\"dataframe\">\n",
       "  <thead>\n",
       "    <tr style=\"text-align: right;\">\n",
       "      <th></th>\n",
       "      <th>passengerid</th>\n",
       "      <th>survived</th>\n",
       "      <th>pclass</th>\n",
       "      <th>name</th>\n",
       "      <th>sex</th>\n",
       "      <th>age</th>\n",
       "      <th>sibsp</th>\n",
       "      <th>parch</th>\n",
       "      <th>ticket</th>\n",
       "      <th>fare</th>\n",
       "      <th>cabin</th>\n",
       "      <th>embarked</th>\n",
       "    </tr>\n",
       "  </thead>\n",
       "  <tbody>\n",
       "    <tr>\n",
       "      <th>306</th>\n",
       "      <td>1198</td>\n",
       "      <td>0</td>\n",
       "      <td>1</td>\n",
       "      <td>Allison, Mr. Hudson Joshua Creighton</td>\n",
       "      <td>male</td>\n",
       "      <td>30.0</td>\n",
       "      <td>1</td>\n",
       "      <td>2</td>\n",
       "      <td>113781</td>\n",
       "      <td>151.550</td>\n",
       "      <td>C22 C26</td>\n",
       "      <td>S</td>\n",
       "    </tr>\n",
       "    <tr>\n",
       "      <th>13</th>\n",
       "      <td>905</td>\n",
       "      <td>0</td>\n",
       "      <td>2</td>\n",
       "      <td>Howard, Mr. Benjamin</td>\n",
       "      <td>male</td>\n",
       "      <td>63.0</td>\n",
       "      <td>1</td>\n",
       "      <td>0</td>\n",
       "      <td>24065</td>\n",
       "      <td>26.000</td>\n",
       "      <td>unknown</td>\n",
       "      <td>S</td>\n",
       "    </tr>\n",
       "    <tr>\n",
       "      <th>165</th>\n",
       "      <td>1057</td>\n",
       "      <td>1</td>\n",
       "      <td>3</td>\n",
       "      <td>Kink-Heilmann, Mrs. Anton (Luise Heilmann)</td>\n",
       "      <td>female</td>\n",
       "      <td>26.0</td>\n",
       "      <td>1</td>\n",
       "      <td>1</td>\n",
       "      <td>315153</td>\n",
       "      <td>22.025</td>\n",
       "      <td>unknown</td>\n",
       "      <td>S</td>\n",
       "    </tr>\n",
       "    <tr>\n",
       "      <th>171</th>\n",
       "      <td>1063</td>\n",
       "      <td>0</td>\n",
       "      <td>3</td>\n",
       "      <td>Zakarian, Mr. Ortin</td>\n",
       "      <td>male</td>\n",
       "      <td>27.0</td>\n",
       "      <td>0</td>\n",
       "      <td>0</td>\n",
       "      <td>2670</td>\n",
       "      <td>7.225</td>\n",
       "      <td>unknown</td>\n",
       "      <td>C</td>\n",
       "    </tr>\n",
       "    <tr>\n",
       "      <th>74</th>\n",
       "      <td>966</td>\n",
       "      <td>1</td>\n",
       "      <td>1</td>\n",
       "      <td>Geiger, Miss. Amalie</td>\n",
       "      <td>female</td>\n",
       "      <td>35.0</td>\n",
       "      <td>0</td>\n",
       "      <td>0</td>\n",
       "      <td>113503</td>\n",
       "      <td>211.500</td>\n",
       "      <td>C130</td>\n",
       "      <td>C</td>\n",
       "    </tr>\n",
       "  </tbody>\n",
       "</table>\n",
       "</div>"
      ],
      "text/plain": [
       "     passengerid  survived  pclass  \\\n",
       "306         1198         0       1   \n",
       "13           905         0       2   \n",
       "165         1057         1       3   \n",
       "171         1063         0       3   \n",
       "74           966         1       1   \n",
       "\n",
       "                                           name     sex   age  sibsp  parch  \\\n",
       "306        Allison, Mr. Hudson Joshua Creighton    male  30.0      1      2   \n",
       "13                         Howard, Mr. Benjamin    male  63.0      1      0   \n",
       "165  Kink-Heilmann, Mrs. Anton (Luise Heilmann)  female  26.0      1      1   \n",
       "171                         Zakarian, Mr. Ortin    male  27.0      0      0   \n",
       "74                         Geiger, Miss. Amalie  female  35.0      0      0   \n",
       "\n",
       "     ticket     fare    cabin embarked  \n",
       "306  113781  151.550  C22 C26        S  \n",
       "13    24065   26.000  unknown        S  \n",
       "165  315153   22.025  unknown        S  \n",
       "171    2670    7.225  unknown        C  \n",
       "74   113503  211.500     C130        C  "
      ]
     },
     "execution_count": 10,
     "metadata": {},
     "output_type": "execute_result"
    }
   ],
   "source": [
    "coluna_cabine = \"cabin\"\n",
    "for coluna in titanic_dataframe.columns:\n",
    "    if coluna_cabine == coluna:\n",
    "        titanic_dataframe[f\"{coluna}\"] = titanic_dataframe[f\"{coluna}\"].fillna(\"unknown\")\n",
    "\n",
    "\n",
    "titanic_dataframe.sample(5)"
   ]
  },
  {
   "cell_type": "code",
   "execution_count": 11,
   "metadata": {},
   "outputs": [],
   "source": [
    "titanic_dataframe.cabin = fix_header_to_standarts(titanic_dataframe.cabin.values)"
   ]
  },
  {
   "attachments": {},
   "cell_type": "markdown",
   "metadata": {},
   "source": [
    "##### Coluna \"age\""
   ]
  },
  {
   "cell_type": "code",
   "execution_count": 12,
   "metadata": {},
   "outputs": [
    {
     "data": {
      "text/html": [
       "<div>\n",
       "<style scoped>\n",
       "    .dataframe tbody tr th:only-of-type {\n",
       "        vertical-align: middle;\n",
       "    }\n",
       "\n",
       "    .dataframe tbody tr th {\n",
       "        vertical-align: top;\n",
       "    }\n",
       "\n",
       "    .dataframe thead th {\n",
       "        text-align: right;\n",
       "    }\n",
       "</style>\n",
       "<table border=\"1\" class=\"dataframe\">\n",
       "  <thead>\n",
       "    <tr style=\"text-align: right;\">\n",
       "      <th></th>\n",
       "      <th>passengerid</th>\n",
       "      <th>survived</th>\n",
       "      <th>pclass</th>\n",
       "      <th>name</th>\n",
       "      <th>sex</th>\n",
       "      <th>age</th>\n",
       "      <th>sibsp</th>\n",
       "      <th>parch</th>\n",
       "      <th>ticket</th>\n",
       "      <th>fare</th>\n",
       "      <th>cabin</th>\n",
       "      <th>embarked</th>\n",
       "    </tr>\n",
       "  </thead>\n",
       "  <tbody>\n",
       "    <tr>\n",
       "      <th>202</th>\n",
       "      <td>1094</td>\n",
       "      <td>0</td>\n",
       "      <td>1</td>\n",
       "      <td>Astor, Col. John Jacob</td>\n",
       "      <td>male</td>\n",
       "      <td>47.0</td>\n",
       "      <td>1</td>\n",
       "      <td>0</td>\n",
       "      <td>PC 17757</td>\n",
       "      <td>227.5250</td>\n",
       "      <td>c62_c64</td>\n",
       "      <td>C</td>\n",
       "    </tr>\n",
       "    <tr>\n",
       "      <th>364</th>\n",
       "      <td>1256</td>\n",
       "      <td>1</td>\n",
       "      <td>1</td>\n",
       "      <td>Harder, Mrs. George Achilles (Dorothy Annan)</td>\n",
       "      <td>female</td>\n",
       "      <td>25.0</td>\n",
       "      <td>1</td>\n",
       "      <td>0</td>\n",
       "      <td>11765</td>\n",
       "      <td>55.4417</td>\n",
       "      <td>e50</td>\n",
       "      <td>C</td>\n",
       "    </tr>\n",
       "    <tr>\n",
       "      <th>390</th>\n",
       "      <td>1282</td>\n",
       "      <td>0</td>\n",
       "      <td>1</td>\n",
       "      <td>Payne, Mr. Vivian Ponsonby</td>\n",
       "      <td>male</td>\n",
       "      <td>23.0</td>\n",
       "      <td>0</td>\n",
       "      <td>0</td>\n",
       "      <td>12749</td>\n",
       "      <td>93.5000</td>\n",
       "      <td>b24</td>\n",
       "      <td>S</td>\n",
       "    </tr>\n",
       "    <tr>\n",
       "      <th>346</th>\n",
       "      <td>1238</td>\n",
       "      <td>0</td>\n",
       "      <td>2</td>\n",
       "      <td>Botsford, Mr. William Hull</td>\n",
       "      <td>male</td>\n",
       "      <td>26.0</td>\n",
       "      <td>0</td>\n",
       "      <td>0</td>\n",
       "      <td>237670</td>\n",
       "      <td>13.0000</td>\n",
       "      <td>unknown</td>\n",
       "      <td>S</td>\n",
       "    </tr>\n",
       "    <tr>\n",
       "      <th>199</th>\n",
       "      <td>1091</td>\n",
       "      <td>1</td>\n",
       "      <td>3</td>\n",
       "      <td>Rasmussen, Mrs. (Lena Jacobsen Solvang)</td>\n",
       "      <td>female</td>\n",
       "      <td>30.0</td>\n",
       "      <td>0</td>\n",
       "      <td>0</td>\n",
       "      <td>65305</td>\n",
       "      <td>8.1125</td>\n",
       "      <td>unknown</td>\n",
       "      <td>S</td>\n",
       "    </tr>\n",
       "  </tbody>\n",
       "</table>\n",
       "</div>"
      ],
      "text/plain": [
       "     passengerid  survived  pclass  \\\n",
       "202         1094         0       1   \n",
       "364         1256         1       1   \n",
       "390         1282         0       1   \n",
       "346         1238         0       2   \n",
       "199         1091         1       3   \n",
       "\n",
       "                                             name     sex   age  sibsp  parch  \\\n",
       "202                        Astor, Col. John Jacob    male  47.0      1      0   \n",
       "364  Harder, Mrs. George Achilles (Dorothy Annan)  female  25.0      1      0   \n",
       "390                    Payne, Mr. Vivian Ponsonby    male  23.0      0      0   \n",
       "346                    Botsford, Mr. William Hull    male  26.0      0      0   \n",
       "199       Rasmussen, Mrs. (Lena Jacobsen Solvang)  female  30.0      0      0   \n",
       "\n",
       "       ticket      fare    cabin embarked  \n",
       "202  PC 17757  227.5250  c62_c64        C  \n",
       "364     11765   55.4417      e50        C  \n",
       "390     12749   93.5000      b24        S  \n",
       "346    237670   13.0000  unknown        S  \n",
       "199     65305    8.1125  unknown        S  "
      ]
     },
     "execution_count": 12,
     "metadata": {},
     "output_type": "execute_result"
    }
   ],
   "source": [
    "coluna_cabine = \"age\"\n",
    "media = int(round(titanic_dataframe.age.mean(), 0))\n",
    "\n",
    "for coluna in titanic_dataframe.columns:\n",
    "    if coluna_cabine == coluna:\n",
    "        titanic_dataframe[f\"{coluna}\"] = titanic_dataframe[f\"{coluna}\"].fillna(media)\n",
    "\n",
    "\n",
    "titanic_dataframe.sample(5)"
   ]
  },
  {
   "attachments": {},
   "cell_type": "markdown",
   "metadata": {},
   "source": [
    "##### Coluna \"embarked\""
   ]
  },
  {
   "cell_type": "code",
   "execution_count": 13,
   "metadata": {},
   "outputs": [
    {
     "data": {
      "text/plain": [
       "array(['Q', 'S', 'C'], dtype=object)"
      ]
     },
     "execution_count": 13,
     "metadata": {},
     "output_type": "execute_result"
    }
   ],
   "source": [
    "titanic_dataframe.embarked.unique()"
   ]
  },
  {
   "cell_type": "code",
   "execution_count": 14,
   "metadata": {},
   "outputs": [],
   "source": [
    "# NAO EXECUTE ESSA CELUNA MAIS DE UMA UNICA VEZ\n",
    "titanic_dataframe.embarked = titanic_dataframe.embarked.map({\n",
    "    \"C\": 0,\n",
    "    \"Q\": 1,\n",
    "    \"S\": 2\n",
    "    }\n",
    ")"
   ]
  },
  {
   "cell_type": "code",
   "execution_count": 15,
   "metadata": {},
   "outputs": [
    {
     "data": {
      "text/html": [
       "<div>\n",
       "<style scoped>\n",
       "    .dataframe tbody tr th:only-of-type {\n",
       "        vertical-align: middle;\n",
       "    }\n",
       "\n",
       "    .dataframe tbody tr th {\n",
       "        vertical-align: top;\n",
       "    }\n",
       "\n",
       "    .dataframe thead th {\n",
       "        text-align: right;\n",
       "    }\n",
       "</style>\n",
       "<table border=\"1\" class=\"dataframe\">\n",
       "  <thead>\n",
       "    <tr style=\"text-align: right;\">\n",
       "      <th></th>\n",
       "      <th>passengerid</th>\n",
       "      <th>survived</th>\n",
       "      <th>pclass</th>\n",
       "      <th>name</th>\n",
       "      <th>sex</th>\n",
       "      <th>age</th>\n",
       "      <th>sibsp</th>\n",
       "      <th>parch</th>\n",
       "      <th>ticket</th>\n",
       "      <th>fare</th>\n",
       "      <th>cabin</th>\n",
       "      <th>embarked</th>\n",
       "    </tr>\n",
       "  </thead>\n",
       "  <tbody>\n",
       "    <tr>\n",
       "      <th>357</th>\n",
       "      <td>1249</td>\n",
       "      <td>0</td>\n",
       "      <td>3</td>\n",
       "      <td>Lockyer, Mr. Edward</td>\n",
       "      <td>male</td>\n",
       "      <td>30.0</td>\n",
       "      <td>0</td>\n",
       "      <td>0</td>\n",
       "      <td>1222</td>\n",
       "      <td>7.8792</td>\n",
       "      <td>unknown</td>\n",
       "      <td>2</td>\n",
       "    </tr>\n",
       "    <tr>\n",
       "      <th>302</th>\n",
       "      <td>1194</td>\n",
       "      <td>0</td>\n",
       "      <td>2</td>\n",
       "      <td>Phillips, Mr. Escott Robert</td>\n",
       "      <td>male</td>\n",
       "      <td>43.0</td>\n",
       "      <td>0</td>\n",
       "      <td>1</td>\n",
       "      <td>S.O./P.P. 2</td>\n",
       "      <td>21.0000</td>\n",
       "      <td>unknown</td>\n",
       "      <td>2</td>\n",
       "    </tr>\n",
       "    <tr>\n",
       "      <th>1</th>\n",
       "      <td>893</td>\n",
       "      <td>1</td>\n",
       "      <td>3</td>\n",
       "      <td>Wilkes, Mrs. James (Ellen Needs)</td>\n",
       "      <td>female</td>\n",
       "      <td>47.0</td>\n",
       "      <td>1</td>\n",
       "      <td>0</td>\n",
       "      <td>363272</td>\n",
       "      <td>7.0000</td>\n",
       "      <td>unknown</td>\n",
       "      <td>2</td>\n",
       "    </tr>\n",
       "    <tr>\n",
       "      <th>324</th>\n",
       "      <td>1216</td>\n",
       "      <td>1</td>\n",
       "      <td>1</td>\n",
       "      <td>Kreuchen, Miss. Emilie</td>\n",
       "      <td>female</td>\n",
       "      <td>39.0</td>\n",
       "      <td>0</td>\n",
       "      <td>0</td>\n",
       "      <td>24160</td>\n",
       "      <td>211.3375</td>\n",
       "      <td>unknown</td>\n",
       "      <td>2</td>\n",
       "    </tr>\n",
       "    <tr>\n",
       "      <th>102</th>\n",
       "      <td>994</td>\n",
       "      <td>0</td>\n",
       "      <td>3</td>\n",
       "      <td>Foley, Mr. William</td>\n",
       "      <td>male</td>\n",
       "      <td>30.0</td>\n",
       "      <td>0</td>\n",
       "      <td>0</td>\n",
       "      <td>365235</td>\n",
       "      <td>7.7500</td>\n",
       "      <td>unknown</td>\n",
       "      <td>1</td>\n",
       "    </tr>\n",
       "  </tbody>\n",
       "</table>\n",
       "</div>"
      ],
      "text/plain": [
       "     passengerid  survived  pclass                              name     sex  \\\n",
       "357         1249         0       3               Lockyer, Mr. Edward    male   \n",
       "302         1194         0       2       Phillips, Mr. Escott Robert    male   \n",
       "1            893         1       3  Wilkes, Mrs. James (Ellen Needs)  female   \n",
       "324         1216         1       1            Kreuchen, Miss. Emilie  female   \n",
       "102          994         0       3                Foley, Mr. William    male   \n",
       "\n",
       "      age  sibsp  parch       ticket      fare    cabin  embarked  \n",
       "357  30.0      0      0         1222    7.8792  unknown         2  \n",
       "302  43.0      0      1  S.O./P.P. 2   21.0000  unknown         2  \n",
       "1    47.0      1      0       363272    7.0000  unknown         2  \n",
       "324  39.0      0      0        24160  211.3375  unknown         2  \n",
       "102  30.0      0      0       365235    7.7500  unknown         1  "
      ]
     },
     "execution_count": 15,
     "metadata": {},
     "output_type": "execute_result"
    }
   ],
   "source": [
    "titanic_dataframe.sample(5)"
   ]
  },
  {
   "attachments": {},
   "cell_type": "markdown",
   "metadata": {},
   "source": [
    "##### Coluna \"sex\""
   ]
  },
  {
   "cell_type": "code",
   "execution_count": 16,
   "metadata": {},
   "outputs": [
    {
     "data": {
      "text/plain": [
       "array(['male', 'female'], dtype=object)"
      ]
     },
     "execution_count": 16,
     "metadata": {},
     "output_type": "execute_result"
    }
   ],
   "source": [
    "titanic_dataframe.sex.unique()"
   ]
  },
  {
   "cell_type": "code",
   "execution_count": 17,
   "metadata": {},
   "outputs": [],
   "source": [
    "# NAO EXECUTE ESSA CELUNA MAIS DE UMA UNICA VEZ\n",
    "titanic_dataframe.sex = titanic_dataframe.sex.map({\n",
    "    \"male\": 0,\n",
    "    \"female\": 1\n",
    "    }\n",
    ")"
   ]
  },
  {
   "cell_type": "code",
   "execution_count": 18,
   "metadata": {},
   "outputs": [
    {
     "data": {
      "text/html": [
       "<div>\n",
       "<style scoped>\n",
       "    .dataframe tbody tr th:only-of-type {\n",
       "        vertical-align: middle;\n",
       "    }\n",
       "\n",
       "    .dataframe tbody tr th {\n",
       "        vertical-align: top;\n",
       "    }\n",
       "\n",
       "    .dataframe thead th {\n",
       "        text-align: right;\n",
       "    }\n",
       "</style>\n",
       "<table border=\"1\" class=\"dataframe\">\n",
       "  <thead>\n",
       "    <tr style=\"text-align: right;\">\n",
       "      <th></th>\n",
       "      <th>passengerid</th>\n",
       "      <th>survived</th>\n",
       "      <th>pclass</th>\n",
       "      <th>name</th>\n",
       "      <th>sex</th>\n",
       "      <th>age</th>\n",
       "      <th>sibsp</th>\n",
       "      <th>parch</th>\n",
       "      <th>ticket</th>\n",
       "      <th>fare</th>\n",
       "      <th>cabin</th>\n",
       "      <th>embarked</th>\n",
       "    </tr>\n",
       "  </thead>\n",
       "  <tbody>\n",
       "    <tr>\n",
       "      <th>227</th>\n",
       "      <td>1119</td>\n",
       "      <td>1</td>\n",
       "      <td>3</td>\n",
       "      <td>McNeill, Miss. Bridget</td>\n",
       "      <td>1</td>\n",
       "      <td>30.0</td>\n",
       "      <td>0</td>\n",
       "      <td>0</td>\n",
       "      <td>370368</td>\n",
       "      <td>7.7500</td>\n",
       "      <td>unknown</td>\n",
       "      <td>1</td>\n",
       "    </tr>\n",
       "    <tr>\n",
       "      <th>181</th>\n",
       "      <td>1073</td>\n",
       "      <td>0</td>\n",
       "      <td>1</td>\n",
       "      <td>Compton, Mr. Alexander Taylor Jr</td>\n",
       "      <td>0</td>\n",
       "      <td>37.0</td>\n",
       "      <td>1</td>\n",
       "      <td>1</td>\n",
       "      <td>PC 17756</td>\n",
       "      <td>83.1583</td>\n",
       "      <td>e52</td>\n",
       "      <td>0</td>\n",
       "    </tr>\n",
       "    <tr>\n",
       "      <th>2</th>\n",
       "      <td>894</td>\n",
       "      <td>0</td>\n",
       "      <td>2</td>\n",
       "      <td>Myles, Mr. Thomas Francis</td>\n",
       "      <td>0</td>\n",
       "      <td>62.0</td>\n",
       "      <td>0</td>\n",
       "      <td>0</td>\n",
       "      <td>240276</td>\n",
       "      <td>9.6875</td>\n",
       "      <td>unknown</td>\n",
       "      <td>1</td>\n",
       "    </tr>\n",
       "    <tr>\n",
       "      <th>22</th>\n",
       "      <td>914</td>\n",
       "      <td>1</td>\n",
       "      <td>1</td>\n",
       "      <td>Flegenheim, Mrs. Alfred (Antoinette)</td>\n",
       "      <td>1</td>\n",
       "      <td>30.0</td>\n",
       "      <td>0</td>\n",
       "      <td>0</td>\n",
       "      <td>PC 17598</td>\n",
       "      <td>31.6833</td>\n",
       "      <td>unknown</td>\n",
       "      <td>2</td>\n",
       "    </tr>\n",
       "    <tr>\n",
       "      <th>24</th>\n",
       "      <td>916</td>\n",
       "      <td>1</td>\n",
       "      <td>1</td>\n",
       "      <td>Ryerson, Mrs. Arthur Larned (Emily Maria Borie)</td>\n",
       "      <td>1</td>\n",
       "      <td>48.0</td>\n",
       "      <td>1</td>\n",
       "      <td>3</td>\n",
       "      <td>PC 17608</td>\n",
       "      <td>262.3750</td>\n",
       "      <td>b57_b59_b63_b66</td>\n",
       "      <td>0</td>\n",
       "    </tr>\n",
       "  </tbody>\n",
       "</table>\n",
       "</div>"
      ],
      "text/plain": [
       "     passengerid  survived  pclass  \\\n",
       "227         1119         1       3   \n",
       "181         1073         0       1   \n",
       "2            894         0       2   \n",
       "22           914         1       1   \n",
       "24           916         1       1   \n",
       "\n",
       "                                                name  sex   age  sibsp  parch  \\\n",
       "227                           McNeill, Miss. Bridget    1  30.0      0      0   \n",
       "181                 Compton, Mr. Alexander Taylor Jr    0  37.0      1      1   \n",
       "2                          Myles, Mr. Thomas Francis    0  62.0      0      0   \n",
       "22              Flegenheim, Mrs. Alfred (Antoinette)    1  30.0      0      0   \n",
       "24   Ryerson, Mrs. Arthur Larned (Emily Maria Borie)    1  48.0      1      3   \n",
       "\n",
       "       ticket      fare            cabin  embarked  \n",
       "227    370368    7.7500          unknown         1  \n",
       "181  PC 17756   83.1583              e52         0  \n",
       "2      240276    9.6875          unknown         1  \n",
       "22   PC 17598   31.6833          unknown         2  \n",
       "24   PC 17608  262.3750  b57_b59_b63_b66         0  "
      ]
     },
     "execution_count": 18,
     "metadata": {},
     "output_type": "execute_result"
    }
   ],
   "source": [
    "titanic_dataframe.sample(5)"
   ]
  },
  {
   "attachments": {},
   "cell_type": "markdown",
   "metadata": {},
   "source": [
    "#### Tratamento de tipos"
   ]
  },
  {
   "cell_type": "code",
   "execution_count": 19,
   "metadata": {},
   "outputs": [
    {
     "name": "stdout",
     "output_type": "stream",
     "text": [
      "O maior id é:\t\t1309\n",
      "A maior tarifa é:\t512.33\n",
      "\n"
     ]
    }
   ],
   "source": [
    "id_max = titanic_dataframe.passengerid.max()\n",
    "fare_max = round(titanic_dataframe.fare.max(), 2)\n",
    "print(f\"O maior id é:\\t\\t{id_max}\\nA maior tarifa é:\\t{fare_max}\\n\")"
   ]
  },
  {
   "cell_type": "code",
   "execution_count": 20,
   "metadata": {},
   "outputs": [],
   "source": [
    "### coluna passengerid\n",
    "titanic_dataframe.passengerid = titanic_dataframe.passengerid.astype(\"uint16\")\n",
    "\n",
    "### coluna survided\n",
    "titanic_dataframe.survived = titanic_dataframe.survived.astype(\"uint8\")\n",
    "\n",
    "### coluna pclass\n",
    "titanic_dataframe.pclass = titanic_dataframe.pclass.astype(\"uint8\")\n",
    "\n",
    "### coluna name\n",
    "titanic_dataframe.name = titanic_dataframe.name.astype(\"category\")\n",
    "\n",
    "### coluna sex\n",
    "titanic_dataframe.sex = titanic_dataframe.sex.astype(\"uint8\")\n",
    "\n",
    "### coluna age\n",
    "titanic_dataframe.age = titanic_dataframe.age.astype(\"uint8\")\n",
    "\n",
    "### coluna sibsp\n",
    "titanic_dataframe.sibsp = titanic_dataframe.sibsp.astype(\"uint8\")\n",
    "\n",
    "### coluna parch\n",
    "titanic_dataframe.parch = titanic_dataframe.parch.astype(\"uint8\")\n",
    "\n",
    "### coluna ticket\n",
    "titanic_dataframe.ticket = titanic_dataframe.ticket.astype(\"category\")\n",
    "\n",
    "### coluna fare\n",
    "titanic_dataframe.fare = titanic_dataframe.fare.astype(\"float16\")\n",
    "# titanic_dataframe.fare = titanic_dataframe[\"fare\"].apply(np.floor)\n",
    "\n",
    "### coluna cabin\n",
    "titanic_dataframe.cabin = titanic_dataframe.cabin.astype(\"category\")\n",
    "\n",
    "### coluna embarked\n",
    "titanic_dataframe.embarked = titanic_dataframe.embarked.astype(\"uint8\")"
   ]
  },
  {
   "cell_type": "code",
   "execution_count": 21,
   "metadata": {},
   "outputs": [
    {
     "name": "stdout",
     "output_type": "stream",
     "text": [
      "<class 'pandas.core.frame.DataFrame'>\n",
      "RangeIndex: 418 entries, 0 to 417\n",
      "Data columns (total 12 columns):\n",
      " #   Column       Non-Null Count  Dtype   \n",
      "---  ------       --------------  -----   \n",
      " 0   passengerid  418 non-null    uint16  \n",
      " 1   survived     418 non-null    uint8   \n",
      " 2   pclass       418 non-null    uint8   \n",
      " 3   name         418 non-null    category\n",
      " 4   sex          418 non-null    uint8   \n",
      " 5   age          418 non-null    uint8   \n",
      " 6   sibsp        418 non-null    uint8   \n",
      " 7   parch        418 non-null    uint8   \n",
      " 8   ticket       418 non-null    category\n",
      " 9   fare         417 non-null    float16 \n",
      " 10  cabin        418 non-null    category\n",
      " 11  embarked     418 non-null    uint8   \n",
      "dtypes: category(3), float16(1), uint16(1), uint8(7)\n",
      "memory usage: 39.7 KB\n"
     ]
    }
   ],
   "source": [
    "titanic_dataframe.info()"
   ]
  },
  {
   "attachments": {},
   "cell_type": "markdown",
   "metadata": {},
   "source": [
    "#### Exclusão de colunas inconclusívas"
   ]
  },
  {
   "attachments": {},
   "cell_type": "markdown",
   "metadata": {},
   "source": [
    "##### Coluna \"name\""
   ]
  },
  {
   "cell_type": "code",
   "execution_count": 22,
   "metadata": {},
   "outputs": [
    {
     "data": {
      "text/html": [
       "<div>\n",
       "<style scoped>\n",
       "    .dataframe tbody tr th:only-of-type {\n",
       "        vertical-align: middle;\n",
       "    }\n",
       "\n",
       "    .dataframe tbody tr th {\n",
       "        vertical-align: top;\n",
       "    }\n",
       "\n",
       "    .dataframe thead th {\n",
       "        text-align: right;\n",
       "    }\n",
       "</style>\n",
       "<table border=\"1\" class=\"dataframe\">\n",
       "  <thead>\n",
       "    <tr style=\"text-align: right;\">\n",
       "      <th></th>\n",
       "      <th>passengerid</th>\n",
       "      <th>survived</th>\n",
       "      <th>pclass</th>\n",
       "      <th>sex</th>\n",
       "      <th>age</th>\n",
       "      <th>sibsp</th>\n",
       "      <th>parch</th>\n",
       "      <th>ticket</th>\n",
       "      <th>fare</th>\n",
       "      <th>cabin</th>\n",
       "      <th>embarked</th>\n",
       "    </tr>\n",
       "  </thead>\n",
       "  <tbody>\n",
       "    <tr>\n",
       "      <th>325</th>\n",
       "      <td>1217</td>\n",
       "      <td>0</td>\n",
       "      <td>3</td>\n",
       "      <td>0</td>\n",
       "      <td>23</td>\n",
       "      <td>0</td>\n",
       "      <td>0</td>\n",
       "      <td>SOTON/O.Q. 3101309</td>\n",
       "      <td>7.050781</td>\n",
       "      <td>unknown</td>\n",
       "      <td>2</td>\n",
       "    </tr>\n",
       "    <tr>\n",
       "      <th>31</th>\n",
       "      <td>923</td>\n",
       "      <td>0</td>\n",
       "      <td>2</td>\n",
       "      <td>0</td>\n",
       "      <td>24</td>\n",
       "      <td>2</td>\n",
       "      <td>0</td>\n",
       "      <td>C.A. 31029</td>\n",
       "      <td>31.500000</td>\n",
       "      <td>unknown</td>\n",
       "      <td>2</td>\n",
       "    </tr>\n",
       "    <tr>\n",
       "      <th>20</th>\n",
       "      <td>912</td>\n",
       "      <td>0</td>\n",
       "      <td>1</td>\n",
       "      <td>0</td>\n",
       "      <td>55</td>\n",
       "      <td>1</td>\n",
       "      <td>0</td>\n",
       "      <td>PC 17603</td>\n",
       "      <td>59.406250</td>\n",
       "      <td>unknown</td>\n",
       "      <td>0</td>\n",
       "    </tr>\n",
       "    <tr>\n",
       "      <th>22</th>\n",
       "      <td>914</td>\n",
       "      <td>1</td>\n",
       "      <td>1</td>\n",
       "      <td>1</td>\n",
       "      <td>30</td>\n",
       "      <td>0</td>\n",
       "      <td>0</td>\n",
       "      <td>PC 17598</td>\n",
       "      <td>31.687500</td>\n",
       "      <td>unknown</td>\n",
       "      <td>2</td>\n",
       "    </tr>\n",
       "    <tr>\n",
       "      <th>85</th>\n",
       "      <td>977</td>\n",
       "      <td>0</td>\n",
       "      <td>3</td>\n",
       "      <td>0</td>\n",
       "      <td>30</td>\n",
       "      <td>1</td>\n",
       "      <td>0</td>\n",
       "      <td>2660</td>\n",
       "      <td>14.453125</td>\n",
       "      <td>unknown</td>\n",
       "      <td>0</td>\n",
       "    </tr>\n",
       "  </tbody>\n",
       "</table>\n",
       "</div>"
      ],
      "text/plain": [
       "     passengerid  survived  pclass  sex  age  sibsp  parch  \\\n",
       "325         1217         0       3    0   23      0      0   \n",
       "31           923         0       2    0   24      2      0   \n",
       "20           912         0       1    0   55      1      0   \n",
       "22           914         1       1    1   30      0      0   \n",
       "85           977         0       3    0   30      1      0   \n",
       "\n",
       "                 ticket       fare    cabin  embarked  \n",
       "325  SOTON/O.Q. 3101309   7.050781  unknown         2  \n",
       "31           C.A. 31029  31.500000  unknown         2  \n",
       "20             PC 17603  59.406250  unknown         0  \n",
       "22             PC 17598  31.687500  unknown         2  \n",
       "85                 2660  14.453125  unknown         0  "
      ]
     },
     "execution_count": 22,
     "metadata": {},
     "output_type": "execute_result"
    }
   ],
   "source": [
    "titanic_dataframe = titanic_dataframe.drop([\"name\"], axis=1)\n",
    "titanic_dataframe.sample(5)"
   ]
  },
  {
   "attachments": {},
   "cell_type": "markdown",
   "metadata": {},
   "source": [
    "##### Coluna \"ticket\""
   ]
  },
  {
   "cell_type": "code",
   "execution_count": 23,
   "metadata": {},
   "outputs": [
    {
     "data": {
      "text/html": [
       "<div>\n",
       "<style scoped>\n",
       "    .dataframe tbody tr th:only-of-type {\n",
       "        vertical-align: middle;\n",
       "    }\n",
       "\n",
       "    .dataframe tbody tr th {\n",
       "        vertical-align: top;\n",
       "    }\n",
       "\n",
       "    .dataframe thead th {\n",
       "        text-align: right;\n",
       "    }\n",
       "</style>\n",
       "<table border=\"1\" class=\"dataframe\">\n",
       "  <thead>\n",
       "    <tr style=\"text-align: right;\">\n",
       "      <th></th>\n",
       "      <th>passengerid</th>\n",
       "      <th>survived</th>\n",
       "      <th>pclass</th>\n",
       "      <th>sex</th>\n",
       "      <th>age</th>\n",
       "      <th>sibsp</th>\n",
       "      <th>parch</th>\n",
       "      <th>fare</th>\n",
       "      <th>cabin</th>\n",
       "      <th>embarked</th>\n",
       "    </tr>\n",
       "  </thead>\n",
       "  <tbody>\n",
       "    <tr>\n",
       "      <th>85</th>\n",
       "      <td>977</td>\n",
       "      <td>0</td>\n",
       "      <td>3</td>\n",
       "      <td>0</td>\n",
       "      <td>30</td>\n",
       "      <td>1</td>\n",
       "      <td>0</td>\n",
       "      <td>14.453125</td>\n",
       "      <td>unknown</td>\n",
       "      <td>0</td>\n",
       "    </tr>\n",
       "    <tr>\n",
       "      <th>67</th>\n",
       "      <td>959</td>\n",
       "      <td>0</td>\n",
       "      <td>1</td>\n",
       "      <td>0</td>\n",
       "      <td>47</td>\n",
       "      <td>0</td>\n",
       "      <td>0</td>\n",
       "      <td>42.406250</td>\n",
       "      <td>unknown</td>\n",
       "      <td>2</td>\n",
       "    </tr>\n",
       "    <tr>\n",
       "      <th>225</th>\n",
       "      <td>1117</td>\n",
       "      <td>1</td>\n",
       "      <td>3</td>\n",
       "      <td>1</td>\n",
       "      <td>30</td>\n",
       "      <td>0</td>\n",
       "      <td>2</td>\n",
       "      <td>15.242188</td>\n",
       "      <td>unknown</td>\n",
       "      <td>0</td>\n",
       "    </tr>\n",
       "    <tr>\n",
       "      <th>9</th>\n",
       "      <td>901</td>\n",
       "      <td>0</td>\n",
       "      <td>3</td>\n",
       "      <td>0</td>\n",
       "      <td>21</td>\n",
       "      <td>2</td>\n",
       "      <td>0</td>\n",
       "      <td>24.156250</td>\n",
       "      <td>unknown</td>\n",
       "      <td>2</td>\n",
       "    </tr>\n",
       "    <tr>\n",
       "      <th>125</th>\n",
       "      <td>1017</td>\n",
       "      <td>1</td>\n",
       "      <td>3</td>\n",
       "      <td>1</td>\n",
       "      <td>17</td>\n",
       "      <td>0</td>\n",
       "      <td>1</td>\n",
       "      <td>16.093750</td>\n",
       "      <td>unknown</td>\n",
       "      <td>2</td>\n",
       "    </tr>\n",
       "  </tbody>\n",
       "</table>\n",
       "</div>"
      ],
      "text/plain": [
       "     passengerid  survived  pclass  sex  age  sibsp  parch       fare  \\\n",
       "85           977         0       3    0   30      1      0  14.453125   \n",
       "67           959         0       1    0   47      0      0  42.406250   \n",
       "225         1117         1       3    1   30      0      2  15.242188   \n",
       "9            901         0       3    0   21      2      0  24.156250   \n",
       "125         1017         1       3    1   17      0      1  16.093750   \n",
       "\n",
       "       cabin  embarked  \n",
       "85   unknown         0  \n",
       "67   unknown         2  \n",
       "225  unknown         0  \n",
       "9    unknown         2  \n",
       "125  unknown         2  "
      ]
     },
     "execution_count": 23,
     "metadata": {},
     "output_type": "execute_result"
    }
   ],
   "source": [
    "titanic_dataframe = titanic_dataframe.drop([\"ticket\"], axis=1)\n",
    "titanic_dataframe.sample(5)"
   ]
  },
  {
   "attachments": {},
   "cell_type": "markdown",
   "metadata": {},
   "source": [
    "##### Coluna \"cabin\""
   ]
  },
  {
   "cell_type": "code",
   "execution_count": 24,
   "metadata": {},
   "outputs": [
    {
     "data": {
      "text/html": [
       "<div>\n",
       "<style scoped>\n",
       "    .dataframe tbody tr th:only-of-type {\n",
       "        vertical-align: middle;\n",
       "    }\n",
       "\n",
       "    .dataframe tbody tr th {\n",
       "        vertical-align: top;\n",
       "    }\n",
       "\n",
       "    .dataframe thead th {\n",
       "        text-align: right;\n",
       "    }\n",
       "</style>\n",
       "<table border=\"1\" class=\"dataframe\">\n",
       "  <thead>\n",
       "    <tr style=\"text-align: right;\">\n",
       "      <th></th>\n",
       "      <th>passengerid</th>\n",
       "      <th>survived</th>\n",
       "      <th>pclass</th>\n",
       "      <th>sex</th>\n",
       "      <th>age</th>\n",
       "      <th>sibsp</th>\n",
       "      <th>parch</th>\n",
       "      <th>fare</th>\n",
       "      <th>embarked</th>\n",
       "    </tr>\n",
       "  </thead>\n",
       "  <tbody>\n",
       "    <tr>\n",
       "      <th>48</th>\n",
       "      <td>940</td>\n",
       "      <td>1</td>\n",
       "      <td>1</td>\n",
       "      <td>1</td>\n",
       "      <td>60</td>\n",
       "      <td>0</td>\n",
       "      <td>0</td>\n",
       "      <td>76.312500</td>\n",
       "      <td>0</td>\n",
       "    </tr>\n",
       "    <tr>\n",
       "      <th>151</th>\n",
       "      <td>1043</td>\n",
       "      <td>0</td>\n",
       "      <td>3</td>\n",
       "      <td>0</td>\n",
       "      <td>30</td>\n",
       "      <td>0</td>\n",
       "      <td>0</td>\n",
       "      <td>7.894531</td>\n",
       "      <td>0</td>\n",
       "    </tr>\n",
       "    <tr>\n",
       "      <th>233</th>\n",
       "      <td>1125</td>\n",
       "      <td>0</td>\n",
       "      <td>3</td>\n",
       "      <td>0</td>\n",
       "      <td>30</td>\n",
       "      <td>0</td>\n",
       "      <td>0</td>\n",
       "      <td>7.878906</td>\n",
       "      <td>1</td>\n",
       "    </tr>\n",
       "    <tr>\n",
       "      <th>175</th>\n",
       "      <td>1067</td>\n",
       "      <td>1</td>\n",
       "      <td>2</td>\n",
       "      <td>1</td>\n",
       "      <td>15</td>\n",
       "      <td>0</td>\n",
       "      <td>2</td>\n",
       "      <td>39.000000</td>\n",
       "      <td>2</td>\n",
       "    </tr>\n",
       "    <tr>\n",
       "      <th>234</th>\n",
       "      <td>1126</td>\n",
       "      <td>0</td>\n",
       "      <td>1</td>\n",
       "      <td>0</td>\n",
       "      <td>39</td>\n",
       "      <td>1</td>\n",
       "      <td>0</td>\n",
       "      <td>71.312500</td>\n",
       "      <td>0</td>\n",
       "    </tr>\n",
       "  </tbody>\n",
       "</table>\n",
       "</div>"
      ],
      "text/plain": [
       "     passengerid  survived  pclass  sex  age  sibsp  parch       fare  \\\n",
       "48           940         1       1    1   60      0      0  76.312500   \n",
       "151         1043         0       3    0   30      0      0   7.894531   \n",
       "233         1125         0       3    0   30      0      0   7.878906   \n",
       "175         1067         1       2    1   15      0      2  39.000000   \n",
       "234         1126         0       1    0   39      1      0  71.312500   \n",
       "\n",
       "     embarked  \n",
       "48          0  \n",
       "151         0  \n",
       "233         1  \n",
       "175         2  \n",
       "234         0  "
      ]
     },
     "execution_count": 24,
     "metadata": {},
     "output_type": "execute_result"
    }
   ],
   "source": [
    "titanic_dataframe = titanic_dataframe.drop([\"cabin\"], axis=1)\n",
    "titanic_dataframe.sample(5)"
   ]
  },
  {
   "attachments": {},
   "cell_type": "markdown",
   "metadata": {},
   "source": [
    "#### Resultado final"
   ]
  },
  {
   "cell_type": "code",
   "execution_count": 25,
   "metadata": {},
   "outputs": [
    {
     "name": "stdout",
     "output_type": "stream",
     "text": [
      "<class 'pandas.core.frame.DataFrame'>\n",
      "RangeIndex: 418 entries, 0 to 417\n",
      "Data columns (total 9 columns):\n",
      " #   Column       Non-Null Count  Dtype  \n",
      "---  ------       --------------  -----  \n",
      " 0   passengerid  418 non-null    uint16 \n",
      " 1   survived     418 non-null    uint8  \n",
      " 2   pclass       418 non-null    uint8  \n",
      " 3   sex          418 non-null    uint8  \n",
      " 4   age          418 non-null    uint8  \n",
      " 5   sibsp        418 non-null    uint8  \n",
      " 6   parch        418 non-null    uint8  \n",
      " 7   fare         417 non-null    float16\n",
      " 8   embarked     418 non-null    uint8  \n",
      "dtypes: float16(1), uint16(1), uint8(7)\n",
      "memory usage: 4.6 KB\n"
     ]
    }
   ],
   "source": [
    "titanic_dataframe.info()\n",
    "\n",
    "# Se quiser salvar descomentar bloco a seguir\n",
    "#\n",
    "#\n",
    "# file_name = \"titanic\"\n",
    "# save_pkl_file(titanic_dataframe, file_name)\n",
    "#\n",
    "#"
   ]
  },
  {
   "attachments": {},
   "cell_type": "markdown",
   "metadata": {},
   "source": [
    "## Extração dos dados"
   ]
  },
  {
   "attachments": {},
   "cell_type": "markdown",
   "metadata": {},
   "source": [
    "### Média"
   ]
  },
  {
   "attachments": {},
   "cell_type": "markdown",
   "metadata": {},
   "source": [
    "#### Coluna \"age\""
   ]
  },
  {
   "cell_type": "code",
   "execution_count": 26,
   "metadata": {},
   "outputs": [
    {
     "name": "stdout",
     "output_type": "stream",
     "text": [
      "A média de idade é: 30.2\n",
      "\n"
     ]
    }
   ],
   "source": [
    "media_idade = round(titanic_dataframe.age.mean(), ndigits=1)\n",
    "print(f\"A média de idade é: {media_idade}\\n\")"
   ]
  },
  {
   "attachments": {},
   "cell_type": "markdown",
   "metadata": {},
   "source": [
    "#### Coluna \"fare\""
   ]
  },
  {
   "cell_type": "code",
   "execution_count": 27,
   "metadata": {},
   "outputs": [
    {
     "name": "stdout",
     "output_type": "stream",
     "text": [
      "A média de taxa é: 35.625\n",
      "\n"
     ]
    }
   ],
   "source": [
    "media_taxa = round(titanic_dataframe.fare.mean(), ndigits=2)\n",
    "print(f\"A média de taxa é: {media_taxa}\\n\")"
   ]
  },
  {
   "attachments": {},
   "cell_type": "markdown",
   "metadata": {},
   "source": [
    "### Mediana"
   ]
  },
  {
   "attachments": {},
   "cell_type": "markdown",
   "metadata": {},
   "source": [
    "#### Coluna \"age\""
   ]
  },
  {
   "cell_type": "code",
   "execution_count": 28,
   "metadata": {},
   "outputs": [
    {
     "name": "stdout",
     "output_type": "stream",
     "text": [
      "A mediana de idade é: 30.0\n",
      "\n"
     ]
    }
   ],
   "source": [
    "mediana_idade = titanic_dataframe.age.median()\n",
    "print(f\"A mediana de idade é: {mediana_idade}\\n\")"
   ]
  },
  {
   "attachments": {},
   "cell_type": "markdown",
   "metadata": {},
   "source": [
    "#### Coluna \"fare\""
   ]
  },
  {
   "cell_type": "code",
   "execution_count": 29,
   "metadata": {},
   "outputs": [
    {
     "name": "stdout",
     "output_type": "stream",
     "text": [
      "A mediana de taxa é: 14.0\n",
      "\n"
     ]
    }
   ],
   "source": [
    "mediana_taxa = titanic_dataframe.fare.median()\n",
    "print(f\"A mediana de taxa é: {round(mediana_taxa, 0)}\\n\")"
   ]
  },
  {
   "attachments": {},
   "cell_type": "markdown",
   "metadata": {},
   "source": [
    "### Moda"
   ]
  },
  {
   "attachments": {},
   "cell_type": "markdown",
   "metadata": {},
   "source": [
    "#### Coluna \"age\""
   ]
  },
  {
   "cell_type": "code",
   "execution_count": 30,
   "metadata": {},
   "outputs": [
    {
     "name": "stdout",
     "output_type": "stream",
     "text": [
      "A moda de idade é: 0    30\n",
      "Name: age, dtype: uint8\n",
      "\n"
     ]
    }
   ],
   "source": [
    "moda_idade = titanic_dataframe.age.mode()\n",
    "print(f\"A moda de idade é: {moda_idade}\\n\")"
   ]
  },
  {
   "attachments": {},
   "cell_type": "markdown",
   "metadata": {},
   "source": [
    "#### Coluna \"fare\""
   ]
  },
  {
   "cell_type": "code",
   "execution_count": 31,
   "metadata": {},
   "outputs": [
    {
     "name": "stdout",
     "output_type": "stream",
     "text": [
      "A moda de taxa é: 0    7.75\n",
      "Name: fare, dtype: float16\n",
      "\n"
     ]
    }
   ],
   "source": [
    "moda_taxa = titanic_dataframe.fare.mode()\n",
    "print(f\"A moda de taxa é: {moda_taxa}\\n\")"
   ]
  },
  {
   "attachments": {},
   "cell_type": "markdown",
   "metadata": {},
   "source": [
    "### Desvio padrão"
   ]
  },
  {
   "attachments": {},
   "cell_type": "markdown",
   "metadata": {},
   "source": [
    "#### Coluna \"age\""
   ]
  },
  {
   "cell_type": "code",
   "execution_count": 32,
   "metadata": {},
   "outputs": [
    {
     "name": "stdout",
     "output_type": "stream",
     "text": [
      "O desvio padrão da idade é: 12.65\n",
      "\n"
     ]
    }
   ],
   "source": [
    "desvio_padrao_idade = round(titanic_dataframe.age.std(), 2)\n",
    "\n",
    "if desvio_padrao_idade == np.Inf:\n",
    "    print(f\"O desvio padrão da idade é infinito\\n\")\n",
    "else:\n",
    "    print(f\"O desvio padrão da idade é: {desvio_padrao_idade}\\n\")"
   ]
  },
  {
   "attachments": {},
   "cell_type": "markdown",
   "metadata": {},
   "source": [
    "#### Coluna \"fare\""
   ]
  },
  {
   "cell_type": "code",
   "execution_count": 33,
   "metadata": {},
   "outputs": [
    {
     "name": "stdout",
     "output_type": "stream",
     "text": [
      "O desvio padrão da taxa é infinito\n",
      "\n"
     ]
    }
   ],
   "source": [
    "desvio_padrao_taxa = round(titanic_dataframe.fare.std(), 2)\n",
    "\n",
    "if desvio_padrao_taxa == np.Inf:\n",
    "    print(f\"O desvio padrão da taxa é infinito\\n\")\n",
    "else:    \n",
    "    print(f\"O desvio padrão da taxa é: {desvio_padrao_taxa}\\n\")"
   ]
  },
  {
   "attachments": {},
   "cell_type": "markdown",
   "metadata": {},
   "source": [
    "### Mínimo"
   ]
  },
  {
   "attachments": {},
   "cell_type": "markdown",
   "metadata": {},
   "source": [
    "#### Coluna \"age\""
   ]
  },
  {
   "cell_type": "code",
   "execution_count": 34,
   "metadata": {},
   "outputs": [
    {
     "name": "stdout",
     "output_type": "stream",
     "text": [
      "O passageiro mais novo tinha 0 anos de idade\n",
      "\n"
     ]
    }
   ],
   "source": [
    "print(f\"O passageiro mais novo tinha {titanic_dataframe.age.min()} anos de idade\\n\")"
   ]
  },
  {
   "attachments": {},
   "cell_type": "markdown",
   "metadata": {},
   "source": [
    "#### Coluna \"fare\""
   ]
  },
  {
   "cell_type": "code",
   "execution_count": 48,
   "metadata": {},
   "outputs": [
    {
     "name": "stdout",
     "output_type": "stream",
     "text": [
      "O passagem mais barata custou US$ 0.0\n",
      "\n"
     ]
    }
   ],
   "source": [
    "print(f\"O passagem mais barata custou US$ {titanic_dataframe.fare.min()}\\n\")"
   ]
  },
  {
   "attachments": {},
   "cell_type": "markdown",
   "metadata": {},
   "source": [
    "### Máximo"
   ]
  },
  {
   "attachments": {},
   "cell_type": "markdown",
   "metadata": {},
   "source": [
    "#### Coluna \"age\""
   ]
  },
  {
   "cell_type": "code",
   "execution_count": null,
   "metadata": {},
   "outputs": [],
   "source": [
    "print(f\"O passageiro mais velho tinha {titanic_dataframe.age.max()} anos de idade\\n\")"
   ]
  },
  {
   "attachments": {},
   "cell_type": "markdown",
   "metadata": {},
   "source": [
    "#### Coluna \"fare\""
   ]
  },
  {
   "cell_type": "code",
   "execution_count": 49,
   "metadata": {},
   "outputs": [
    {
     "name": "stdout",
     "output_type": "stream",
     "text": [
      "O passagem mais cara custou US$ 512.5\n",
      "\n"
     ]
    }
   ],
   "source": [
    "print(f\"O passagem mais cara custou US$ {titanic_dataframe.fare.max()}\\n\")"
   ]
  },
  {
   "attachments": {},
   "cell_type": "markdown",
   "metadata": {},
   "source": [
    "### Somatório do preço de todas as passagens"
   ]
  },
  {
   "attachments": {},
   "cell_type": "markdown",
   "metadata": {},
   "source": [
    "#### sum()"
   ]
  },
  {
   "cell_type": "code",
   "execution_count": 56,
   "metadata": {},
   "outputs": [
    {
     "name": "stdout",
     "output_type": "stream",
     "text": [
      "O somatório do preço de todas as passagenes é: US$ 14856.0\n",
      "\n"
     ]
    }
   ],
   "source": [
    "somatorio_passagens = titanic_dataframe.fare.sum()\n",
    "print(f\"O somatório do preço de todas as passagenes é: US$ {somatorio_passagens}\\n\")"
   ]
  },
  {
   "attachments": {},
   "cell_type": "markdown",
   "metadata": {},
   "source": [
    "### Contagem (Count)"
   ]
  },
  {
   "attachments": {},
   "cell_type": "markdown",
   "metadata": {},
   "source": [
    "#### Coluna \"survived\""
   ]
  },
  {
   "cell_type": "code",
   "execution_count": 35,
   "metadata": {},
   "outputs": [
    {
     "data": {
      "text/plain": [
       "array([0, 1], dtype=uint8)"
      ]
     },
     "execution_count": 35,
     "metadata": {},
     "output_type": "execute_result"
    }
   ],
   "source": [
    "titanic_dataframe.survived.unique()"
   ]
  },
  {
   "cell_type": "code",
   "execution_count": 36,
   "metadata": {},
   "outputs": [
    {
     "name": "stdout",
     "output_type": "stream",
     "text": [
      "O números de sobreviventes é:\t266\n",
      "O número de mortos é:\t\t152\n",
      "\n"
     ]
    }
   ],
   "source": [
    "qtd_mortes = titanic_dataframe.survived.value_counts()[1]\n",
    "qtd_vivos = titanic_dataframe.survived.value_counts()[0]\n",
    "\n",
    "print(f\"O números de sobreviventes é:\\t{qtd_vivos}\\nO número de mortos é:\\t\\t{qtd_mortes}\\n\")"
   ]
  },
  {
   "attachments": {},
   "cell_type": "markdown",
   "metadata": {},
   "source": [
    "#### Coluna \"pclass\""
   ]
  },
  {
   "cell_type": "code",
   "execution_count": 37,
   "metadata": {},
   "outputs": [
    {
     "data": {
      "text/plain": [
       "array([3, 2, 1], dtype=uint8)"
      ]
     },
     "execution_count": 37,
     "metadata": {},
     "output_type": "execute_result"
    }
   ],
   "source": [
    "titanic_dataframe.pclass.unique()"
   ]
  },
  {
   "cell_type": "code",
   "execution_count": 38,
   "metadata": {},
   "outputs": [
    {
     "name": "stdout",
     "output_type": "stream",
     "text": [
      "O números de pessoas na classe 1 é: 107\n",
      "O números de pessoas na classe 2 é: 93\n",
      "O números de pessoas na classe 3 é: 218\n",
      "\n"
     ]
    }
   ],
   "source": [
    "qtd_classe_1 = titanic_dataframe.pclass.value_counts()[1]\n",
    "qtd_classe_2 = titanic_dataframe.pclass.value_counts()[2]\n",
    "qtd_classe_3 = titanic_dataframe.pclass.value_counts()[3]\n",
    "\n",
    "print(f\"O números de pessoas na classe 1 é: {qtd_classe_1}\\nO números de pessoas na classe 2 é: {qtd_classe_2}\\nO números de pessoas na classe 3 é: {qtd_classe_3}\\n\")"
   ]
  },
  {
   "attachments": {},
   "cell_type": "markdown",
   "metadata": {},
   "source": [
    "#### Coluna \"sex\""
   ]
  },
  {
   "cell_type": "code",
   "execution_count": 39,
   "metadata": {},
   "outputs": [
    {
     "data": {
      "text/plain": [
       "array([0, 1], dtype=uint8)"
      ]
     },
     "execution_count": 39,
     "metadata": {},
     "output_type": "execute_result"
    }
   ],
   "source": [
    "titanic_dataframe.sex.unique()"
   ]
  },
  {
   "cell_type": "code",
   "execution_count": 40,
   "metadata": {},
   "outputs": [
    {
     "name": "stdout",
     "output_type": "stream",
     "text": [
      "O números de mulheres é:\t152\n",
      "O número de homens é:\t\t266\n",
      "\n"
     ]
    }
   ],
   "source": [
    "qtd_homens = titanic_dataframe.sex.value_counts()[0]\n",
    "qtd_mulheres = titanic_dataframe.sex.value_counts()[1]\n",
    "\n",
    "print(f\"O números de mulheres é:\\t{qtd_mulheres}\\nO número de homens é:\\t\\t{qtd_homens}\\n\")"
   ]
  },
  {
   "attachments": {},
   "cell_type": "markdown",
   "metadata": {},
   "source": [
    "#### Coluna \"sibsp\""
   ]
  },
  {
   "cell_type": "code",
   "execution_count": 41,
   "metadata": {},
   "outputs": [
    {
     "data": {
      "text/plain": [
       "array([0, 1, 2, 3, 4, 5, 8], dtype=uint8)"
      ]
     },
     "execution_count": 41,
     "metadata": {},
     "output_type": "execute_result"
    }
   ],
   "source": [
    "titanic_dataframe.sibsp.unique()"
   ]
  },
  {
   "cell_type": "code",
   "execution_count": 42,
   "metadata": {},
   "outputs": [
    {
     "name": "stdout",
     "output_type": "stream",
     "text": [
      "\n",
      "Pessoas sozinhas:               283\n",
      "Pessoas com um único familiar:  110\n",
      "Pessoas com dois familiares:     14\n",
      "Pessoas com três familiares:      4\n",
      "Pessoas com quatro familiares:    4\n",
      "Pessoas com cinco familiares:     1\n",
      "Pessoas com oito familiares:      2\n",
      "      \n"
     ]
    }
   ],
   "source": [
    "qtd_solo = titanic_dataframe.sibsp.value_counts()[0]\n",
    "qtd_par = titanic_dataframe.sibsp.value_counts()[1]\n",
    "qtd_trio = titanic_dataframe.sibsp.value_counts()[2]\n",
    "qtd_quatro = titanic_dataframe.sibsp.value_counts()[3]\n",
    "qtd_cinco = titanic_dataframe.sibsp.value_counts()[4]\n",
    "qtd_seis = titanic_dataframe.sibsp.value_counts()[5]\n",
    "qtd_nove = titanic_dataframe.sibsp.value_counts()[8]\n",
    "\n",
    "print(f\"\"\"\n",
    "Pessoas sozinhas:               {qtd_solo}\n",
    "Pessoas com um único familiar:  {qtd_par}\n",
    "Pessoas com dois familiares:     {qtd_trio}\n",
    "Pessoas com três familiares:      {qtd_quatro}\n",
    "Pessoas com quatro familiares:    {qtd_cinco}\n",
    "Pessoas com cinco familiares:     {qtd_seis}\n",
    "Pessoas com oito familiares:      {qtd_nove}\n",
    "      \"\"\")"
   ]
  },
  {
   "attachments": {},
   "cell_type": "markdown",
   "metadata": {},
   "source": [
    "#### \"parch\""
   ]
  },
  {
   "cell_type": "code",
   "execution_count": 43,
   "metadata": {},
   "outputs": [
    {
     "data": {
      "text/plain": [
       "array([0, 1, 3, 2, 4, 6, 5, 9], dtype=uint8)"
      ]
     },
     "execution_count": 43,
     "metadata": {},
     "output_type": "execute_result"
    }
   ],
   "source": [
    "titanic_dataframe.parch.unique()"
   ]
  },
  {
   "cell_type": "code",
   "execution_count": 44,
   "metadata": {},
   "outputs": [
    {
     "name": "stdout",
     "output_type": "stream",
     "text": [
      "\n",
      "Pessoas com bilhete 0: 324\n",
      "Pessoas com bilhete 1:  52\n",
      "Pessoas com bilhete 2:  33\n",
      "Pessoas com bilhete 3:   3\n",
      "Pessoas com bilhete 4:   2\n",
      "Pessoas com bilhete 5:   1\n",
      "Pessoas com bilhete 6:   1\n",
      "Pessoas com bilhete 9:   2\n",
      "      \n"
     ]
    }
   ],
   "source": [
    "parch_zero = titanic_dataframe.parch.value_counts()[0]\n",
    "parch_um = titanic_dataframe.parch.value_counts()[1]\n",
    "parch_dois = titanic_dataframe.parch.value_counts()[2]\n",
    "parch_tres = titanic_dataframe.parch.value_counts()[3]\n",
    "parch_quatro = titanic_dataframe.parch.value_counts()[4]\n",
    "parch_cinco = titanic_dataframe.parch.value_counts()[5]\n",
    "parch_seis = titanic_dataframe.parch.value_counts()[6]\n",
    "parch_nove = titanic_dataframe.parch.value_counts()[9]\n",
    "\n",
    "print(f\"\"\"\n",
    "Pessoas com bilhete 0: {parch_zero}\n",
    "Pessoas com bilhete 1:  {parch_um}\n",
    "Pessoas com bilhete 2:  {parch_dois}\n",
    "Pessoas com bilhete 3:   {parch_tres}\n",
    "Pessoas com bilhete 4:   {parch_quatro}\n",
    "Pessoas com bilhete 5:   {parch_cinco}\n",
    "Pessoas com bilhete 6:   {parch_seis}\n",
    "Pessoas com bilhete 9:   {parch_nove}\n",
    "      \"\"\")"
   ]
  },
  {
   "attachments": {},
   "cell_type": "markdown",
   "metadata": {},
   "source": [
    "#### Coluna \"embarked\""
   ]
  },
  {
   "cell_type": "code",
   "execution_count": 45,
   "metadata": {},
   "outputs": [
    {
     "data": {
      "text/plain": [
       "array([1, 2, 0], dtype=uint8)"
      ]
     },
     "execution_count": 45,
     "metadata": {},
     "output_type": "execute_result"
    }
   ],
   "source": [
    "titanic_dataframe.embarked.unique()"
   ]
  },
  {
   "cell_type": "code",
   "execution_count": 46,
   "metadata": {},
   "outputs": [
    {
     "name": "stdout",
     "output_type": "stream",
     "text": [
      "Número de pessoas que embarcaram pelo portão C: 102\n",
      "Número de pessoas que embarcaram pelo portão Q: 46\n",
      "Número de pessoas que embarcaram pelo portão S: 270\n",
      "\n"
     ]
    }
   ],
   "source": [
    "embarque_c = titanic_dataframe.embarked.value_counts()[0]\n",
    "embarque_q = titanic_dataframe.embarked.value_counts()[1]\n",
    "embarque_s = titanic_dataframe.embarked.value_counts()[2]\n",
    "\n",
    "print(f\"Número de pessoas que embarcaram pelo portão C: {embarque_c}\\nNúmero de pessoas que embarcaram pelo portão Q: {embarque_q}\\nNúmero de pessoas que embarcaram pelo portão S: {embarque_s}\\n\")"
   ]
  },
  {
   "attachments": {},
   "cell_type": "markdown",
   "metadata": {},
   "source": [
    "## Aplicação da biblioteca MatPlotLib"
   ]
  },
  {
   "attachments": {},
   "cell_type": "markdown",
   "metadata": {},
   "source": [
    "### Boxplot"
   ]
  },
  {
   "cell_type": "code",
   "execution_count": null,
   "metadata": {},
   "outputs": [],
   "source": []
  },
  {
   "attachments": {},
   "cell_type": "markdown",
   "metadata": {},
   "source": [
    "### Gráfico barras"
   ]
  },
  {
   "cell_type": "code",
   "execution_count": null,
   "metadata": {},
   "outputs": [],
   "source": []
  },
  {
   "attachments": {},
   "cell_type": "markdown",
   "metadata": {},
   "source": [
    "### Gráfico pizza"
   ]
  },
  {
   "cell_type": "code",
   "execution_count": null,
   "metadata": {},
   "outputs": [],
   "source": []
  },
  {
   "attachments": {},
   "cell_type": "markdown",
   "metadata": {},
   "source": [
    "### Scatterplot"
   ]
  },
  {
   "cell_type": "code",
   "execution_count": null,
   "metadata": {},
   "outputs": [],
   "source": []
  }
 ],
 "metadata": {
  "kernelspec": {
   "display_name": ".treino-venv",
   "language": "python",
   "name": "python3"
  },
  "language_info": {
   "codemirror_mode": {
    "name": "ipython",
    "version": 3
   },
   "file_extension": ".py",
   "mimetype": "text/x-python",
   "name": "python",
   "nbconvert_exporter": "python",
   "pygments_lexer": "ipython3",
   "version": "3.10.6 | packaged by conda-forge | (main, Aug 22 2022, 20:36:39) [GCC 10.4.0]"
  },
  "orig_nbformat": 4,
  "vscode": {
   "interpreter": {
    "hash": "580f5b92bbce66c2a06dc5d69bee1cc8174ea19a0aa65f2149bab7579fae1b4a"
   }
  }
 },
 "nbformat": 4,
 "nbformat_minor": 2
}
